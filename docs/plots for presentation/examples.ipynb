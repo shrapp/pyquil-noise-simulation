{
 "cells": [
  {
   "cell_type": "code",
   "execution_count": 1,
   "metadata": {
    "collapsed": true
   },
   "outputs": [
    {
     "name": "stdout",
     "output_type": "stream",
     "text": [
      "env: AZURE_QUANTUM_SUBSCRIPTION_ID=1f916067-8a1f-4734-b6d3-86c5f55cfffe\n",
      "env: AZURE_QUANTUM_WORKSPACE_RG=AzureQuantum\n",
      "env: AZURE_QUANTUM_WORKSPACE_NAME=nonlocal-new-ea\n",
      "env: AZURE_QUANTUM_WORKSPACE_LOCATION=westus\n",
      "env: LOG_LEVEL=DEBUG aspen M-2.ipynb\n"
     ]
    }
   ],
   "source": [
    "from datetime import datetime\n",
    "from pyquil.quil import Program\n",
    "from pyquil.gates import H, RX, MEASURE, RZ, CPHASE, CNOT\n",
    "from pyquil.api import get_qc\n",
    "import numpy as np\n",
    "from new_noise import add_noise_to_program, Calibrations\n",
    "import matplotlib.pyplot as plt\n",
    "from pyquil_for_azure_quantum import get_qpu\n",
    "\n",
    "%env AZURE_QUANTUM_SUBSCRIPTION_ID=1f916067-8a1f-4734-b6d3-86c5f55cfffe\n",
    "%env AZURE_QUANTUM_WORKSPACE_RG=AzureQuantum\n",
    "%env AZURE_QUANTUM_WORKSPACE_NAME= nonlocal-new-ea\n",
    "%env AZURE_QUANTUM_WORKSPACE_LOCATION=westus\n",
    "%env LOG_LEVEL=DEBUG aspen M-2.ipynb\n",
    "\n",
    "date = datetime.today().strftime('%d-%m-%y')"
   ]
  },
  {
   "cell_type": "markdown",
   "source": [
    "Adiabatic shift"
   ],
   "metadata": {
    "collapsed": false
   }
  },
  {
   "cell_type": "code",
   "execution_count": 7,
   "outputs": [],
   "source": [
    "def adiabatic_shift(qc, qubits, steps, numshots, noise=False, cal=None):\n",
    "    p = Program()\n",
    "    for i in range(qubits):\n",
    "        p += H(i)\n",
    "\n",
    "    angles=(np.pi/2)*np.array(range(1,steps+1))/(steps+1)\n",
    "    for theta in angles:\n",
    "        alpha = -np.cos(theta)\n",
    "        beta = -np.sin(theta)\n",
    "        for i in range(qubits-1) :\n",
    "            p += RZ(beta,i)\n",
    "            p += RZ(beta,i+1)\n",
    "            p += CPHASE(-2*beta,i,i+1)\n",
    "        for i in range(qubits):\n",
    "            p += RX(alpha, i)\n",
    "\n",
    "    p.declare('ro', 'BIT', qubits)\n",
    "    for i in range(qubits):\n",
    "        p += MEASURE(i, (\"ro\", i))\n",
    "    p.wrap_in_numshots_loop(numshots)\n",
    "    if noise:\n",
    "        if cal is not None:\n",
    "            p = add_noise_to_program(qc, p, convert_to_native=False, calibrations=cal, noise_intensity=noise)\n",
    "        else:\n",
    "            p = add_noise_to_program(qc, p, convert_to_native=False, noise_intensity=noise)\n",
    "        bitstrings = qc.run(p).readout_data.get(\"ro\")\n",
    "    else:\n",
    "        exe = qc.compile(p, to_native_gates=True)\n",
    "        bitstrings = qc.run(exe).readout_data.get(\"ro\")\n",
    "    d = 0\n",
    "    for i in bitstrings:\n",
    "        for q in range(qubits-1):\n",
    "            d += (i[q] != i[q+1])\n",
    "    d /= numshots*(qubits-1)\n",
    "    return d\n",
    "\n",
    "def plot_results(simulations, noise_levels, real, log=False):\n",
    "    # Get the current date and time\n",
    "    current_datetime = datetime.now()\n",
    "\n",
    "    # Format the date and time\n",
    "    formatted_datetime = current_datetime.strftime('%Y-%m-%d_%H-%M-%S')\n",
    "\n",
    "\n",
    "    plt.figure(figsize=(10, 6))\n",
    "    plt.plot(real, linestyle='--', marker='o', label='Real')\n",
    "    for idx, noise in enumerate(noise_levels):\n",
    "        plt.plot(simulations[idx], linestyle='--', marker='o', label=f'Noise Intensity: {noise}')\n",
    "\n",
    "\n",
    "\n",
    "    plt.xlabel('Number of steps')\n",
    "    plt.ylabel('d')\n",
    "    plt.legend()\n",
    "    # Save the plot to a file\n",
    "    plt.savefig('adiabatic_shift_' + formatted_datetime + '.png')\n",
    "\n",
    "\n",
    "    if log:\n",
    "        plt.figure(figsize=(10, 6))\n",
    "        plt.plot(real, linestyle='--', marker='o', label='Real')\n",
    "        for idx, noise in enumerate(noise_levels):\n",
    "            plt.plot(simulations[idx], linestyle='--', marker='o', label=f'Noise Intensity: {noise}')\n",
    "\n",
    "        plt.xlabel('Number of steps')\n",
    "        plt.ylabel('Density of kinks')\n",
    "        plt.legend()\n",
    "        plt.yscale('log')\n",
    "        plt.xscale('log')\n",
    "        # Save the plot to a file\n",
    "        plt.savefig('adiabatic_shift_log_' + formatted_datetime + '.png')\n",
    "\n",
    "    # Display the plot in the interactive window (optional)\n",
    "    plt.show()\n",
    "\n",
    "    # Close the plot (recommended)\n",
    "    plt.close()\n",
    "\n",
    "\n",
    "\n",
    "def run_experiment(qc,qubits, numshots, maxN, noise_levels):\n",
    "    qvm = get_qc(qc, as_qvm=True, execution_timeout=1000)\n",
    "    qpu = get_qpu(qc)\n",
    "    cal = Calibrations(qvm)\n",
    "\n",
    "    real = np.zeros(maxN)\n",
    "    for i in range(maxN):\n",
    "        real[i] = adiabatic_shift(qpu, qubits=qubits, steps=i, numshots=numshots)\n",
    "\n",
    "    simulations = []\n",
    "    for noise in noise_levels:\n",
    "        temp_result = np.zeros(maxN)\n",
    "        for i in range(maxN):\n",
    "            temp_result[i] = adiabatic_shift(qvm, qubits=qubits, steps=i, numshots=numshots, noise=noise, cal=cal)\n",
    "        simulations.append(temp_result)\n",
    "\n",
    "    return simulations, real\n"
   ],
   "metadata": {
    "collapsed": false
   }
  },
  {
   "cell_type": "code",
   "execution_count": 8,
   "outputs": [
    {
     "name": "stderr",
     "output_type": "stream",
     "text": [
      "WARNING - EnvironmentCredential.get_token failed: EnvironmentCredential authentication unavailable. Environment variables are not fully configured.\n",
      "Visit https://aka.ms/azsdk/python/identity/environmentcredential/troubleshoot to troubleshoot.this issue.\n",
      "WARNING - ImdsCredential.get_token failed: ManagedIdentityCredential authentication unavailable, no response from the IMDS endpoint.\n",
      "WARNING - ManagedIdentityCredential.get_token failed: ManagedIdentityCredential authentication unavailable, no response from the IMDS endpoint.\n",
      "WARNING - VisualStudioCodeCredential.get_token failed: Failed to get Azure user details from Visual Studio Code.\n",
      "WARNING - VSCodeCredential.get_token failed: Failed to get Azure user details from Visual Studio Code.\n",
      "WARNING - AzureCliCredential.get_token failed: Azure CLI not found on path\n",
      "WARNING - AzurePowerShellCredential.get_token failed: Az.Account module >= 2.2.0 is not installed\n"
     ]
    },
    {
     "name": "stdout",
     "output_type": "stream",
     "text": [
      "......................................................................................................................................."
     ]
    },
    {
     "ename": "RuntimeError",
     "evalue": "Cannot retrieve results as job execution failed (status: Failed.error: {'additional_properties': {}, 'code': 'InvalidInputData', 'message': 'Execution timed out.  Note: time limit: 10 seconds.'})",
     "output_type": "error",
     "traceback": [
      "\u001B[1;31m---------------------------------------------------------------------------\u001B[0m",
      "\u001B[1;31mRuntimeError\u001B[0m                              Traceback (most recent call last)",
      "\u001B[1;32m~\\AppData\\Local\\Temp\\ipykernel_3520\\1505680809.py\u001B[0m in \u001B[0;36m<module>\u001B[1;34m\u001B[0m\n\u001B[0;32m      4\u001B[0m \u001B[0mnoise_levels\u001B[0m \u001B[1;33m=\u001B[0m \u001B[1;33m[\u001B[0m\u001B[1;36m0\u001B[0m\u001B[1;33m,\u001B[0m \u001B[1;36m0.08\u001B[0m\u001B[1;33m,\u001B[0m \u001B[1;36m0.3\u001B[0m \u001B[1;33m,\u001B[0m \u001B[1;36m1\u001B[0m\u001B[1;33m]\u001B[0m\u001B[1;33m\u001B[0m\u001B[1;33m\u001B[0m\u001B[0m\n\u001B[0;32m      5\u001B[0m \u001B[1;33m\u001B[0m\u001B[0m\n\u001B[1;32m----> 6\u001B[1;33m \u001B[0msimulations\u001B[0m\u001B[1;33m,\u001B[0m \u001B[0mreal\u001B[0m \u001B[1;33m=\u001B[0m \u001B[0mrun_experiment\u001B[0m\u001B[1;33m(\u001B[0m\u001B[1;34m'Aspen-M-3'\u001B[0m\u001B[1;33m,\u001B[0m \u001B[0mqubits\u001B[0m\u001B[1;33m,\u001B[0m \u001B[0mnumshots\u001B[0m\u001B[1;33m,\u001B[0m \u001B[0mmaxN\u001B[0m\u001B[1;33m,\u001B[0m \u001B[0mnoise_levels\u001B[0m\u001B[1;33m)\u001B[0m\u001B[1;33m\u001B[0m\u001B[1;33m\u001B[0m\u001B[0m\n\u001B[0m\u001B[0;32m      7\u001B[0m \u001B[0mplot_results\u001B[0m\u001B[1;33m(\u001B[0m\u001B[0msimulations\u001B[0m\u001B[1;33m,\u001B[0m \u001B[0mnoise_levels\u001B[0m\u001B[1;33m,\u001B[0m \u001B[0mreal\u001B[0m\u001B[1;33m)\u001B[0m\u001B[1;33m\u001B[0m\u001B[1;33m\u001B[0m\u001B[0m\n",
      "\u001B[1;32m~\\AppData\\Local\\Temp\\ipykernel_3520\\887268435.py\u001B[0m in \u001B[0;36mrun_experiment\u001B[1;34m(qc, qubits, numshots, maxN, noise_levels)\u001B[0m\n\u001B[0;32m     86\u001B[0m     \u001B[0mreal\u001B[0m \u001B[1;33m=\u001B[0m \u001B[0mnp\u001B[0m\u001B[1;33m.\u001B[0m\u001B[0mzeros\u001B[0m\u001B[1;33m(\u001B[0m\u001B[0mmaxN\u001B[0m\u001B[1;33m)\u001B[0m\u001B[1;33m\u001B[0m\u001B[1;33m\u001B[0m\u001B[0m\n\u001B[0;32m     87\u001B[0m     \u001B[1;32mfor\u001B[0m \u001B[0mi\u001B[0m \u001B[1;32min\u001B[0m \u001B[0mrange\u001B[0m\u001B[1;33m(\u001B[0m\u001B[0mmaxN\u001B[0m\u001B[1;33m)\u001B[0m\u001B[1;33m:\u001B[0m\u001B[1;33m\u001B[0m\u001B[1;33m\u001B[0m\u001B[0m\n\u001B[1;32m---> 88\u001B[1;33m         \u001B[0mreal\u001B[0m\u001B[1;33m[\u001B[0m\u001B[0mi\u001B[0m\u001B[1;33m]\u001B[0m \u001B[1;33m=\u001B[0m \u001B[0madiabatic_shift\u001B[0m\u001B[1;33m(\u001B[0m\u001B[0mqpu\u001B[0m\u001B[1;33m,\u001B[0m \u001B[0mqubits\u001B[0m\u001B[1;33m=\u001B[0m\u001B[0mqubits\u001B[0m\u001B[1;33m,\u001B[0m \u001B[0msteps\u001B[0m\u001B[1;33m=\u001B[0m\u001B[0mi\u001B[0m\u001B[1;33m,\u001B[0m \u001B[0mnumshots\u001B[0m\u001B[1;33m=\u001B[0m\u001B[0mnumshots\u001B[0m\u001B[1;33m)\u001B[0m\u001B[1;33m\u001B[0m\u001B[1;33m\u001B[0m\u001B[0m\n\u001B[0m\u001B[0;32m     89\u001B[0m \u001B[1;33m\u001B[0m\u001B[0m\n\u001B[0;32m     90\u001B[0m     \u001B[0msimulations\u001B[0m \u001B[1;33m=\u001B[0m \u001B[1;33m[\u001B[0m\u001B[1;33m]\u001B[0m\u001B[1;33m\u001B[0m\u001B[1;33m\u001B[0m\u001B[0m\n",
      "\u001B[1;32m~\\AppData\\Local\\Temp\\ipykernel_3520\\887268435.py\u001B[0m in \u001B[0;36madiabatic_shift\u001B[1;34m(qc, qubits, steps, numshots, noise, cal)\u001B[0m\n\u001B[0;32m     27\u001B[0m     \u001B[1;32melse\u001B[0m\u001B[1;33m:\u001B[0m\u001B[1;33m\u001B[0m\u001B[1;33m\u001B[0m\u001B[0m\n\u001B[0;32m     28\u001B[0m         \u001B[0mexe\u001B[0m \u001B[1;33m=\u001B[0m \u001B[0mqc\u001B[0m\u001B[1;33m.\u001B[0m\u001B[0mcompile\u001B[0m\u001B[1;33m(\u001B[0m\u001B[0mp\u001B[0m\u001B[1;33m,\u001B[0m \u001B[0mto_native_gates\u001B[0m\u001B[1;33m=\u001B[0m\u001B[1;32mTrue\u001B[0m\u001B[1;33m)\u001B[0m\u001B[1;33m\u001B[0m\u001B[1;33m\u001B[0m\u001B[0m\n\u001B[1;32m---> 29\u001B[1;33m         \u001B[0mbitstrings\u001B[0m \u001B[1;33m=\u001B[0m \u001B[0mqc\u001B[0m\u001B[1;33m.\u001B[0m\u001B[0mrun\u001B[0m\u001B[1;33m(\u001B[0m\u001B[0mexe\u001B[0m\u001B[1;33m)\u001B[0m\u001B[1;33m.\u001B[0m\u001B[0mreadout_data\u001B[0m\u001B[1;33m.\u001B[0m\u001B[0mget\u001B[0m\u001B[1;33m(\u001B[0m\u001B[1;34m\"ro\"\u001B[0m\u001B[1;33m)\u001B[0m\u001B[1;33m\u001B[0m\u001B[1;33m\u001B[0m\u001B[0m\n\u001B[0m\u001B[0;32m     30\u001B[0m     \u001B[0md\u001B[0m \u001B[1;33m=\u001B[0m \u001B[1;36m0\u001B[0m\u001B[1;33m\u001B[0m\u001B[1;33m\u001B[0m\u001B[0m\n\u001B[0;32m     31\u001B[0m     \u001B[1;32mfor\u001B[0m \u001B[0mi\u001B[0m \u001B[1;32min\u001B[0m \u001B[0mbitstrings\u001B[0m\u001B[1;33m:\u001B[0m\u001B[1;33m\u001B[0m\u001B[1;33m\u001B[0m\u001B[0m\n",
      "\u001B[1;32mc:\\program files\\python39\\lib\\site-packages\\pyquil\\api\\_quantum_computer.py\u001B[0m in \u001B[0;36mrun\u001B[1;34m(self, executable)\u001B[0m\n\u001B[0;32m    143\u001B[0m         \u001B[1;33m:\u001B[0m\u001B[1;32mreturn\u001B[0m\u001B[1;33m:\u001B[0m \u001B[0mexecution\u001B[0m \u001B[0mresult\u001B[0m \u001B[0mincluding\u001B[0m \u001B[0mreadout\u001B[0m \u001B[0mdata\u001B[0m\u001B[1;33m.\u001B[0m\u001B[1;33m\u001B[0m\u001B[1;33m\u001B[0m\u001B[0m\n\u001B[0;32m    144\u001B[0m         \"\"\"\n\u001B[1;32m--> 145\u001B[1;33m         \u001B[1;32mreturn\u001B[0m \u001B[0mself\u001B[0m\u001B[1;33m.\u001B[0m\u001B[0mqam\u001B[0m\u001B[1;33m.\u001B[0m\u001B[0mrun\u001B[0m\u001B[1;33m(\u001B[0m\u001B[0mexecutable\u001B[0m\u001B[1;33m)\u001B[0m\u001B[1;33m\u001B[0m\u001B[1;33m\u001B[0m\u001B[0m\n\u001B[0m\u001B[0;32m    146\u001B[0m \u001B[1;33m\u001B[0m\u001B[0m\n\u001B[0;32m    147\u001B[0m     \u001B[1;32mdef\u001B[0m \u001B[0mcalibrate\u001B[0m\u001B[1;33m(\u001B[0m\u001B[0mself\u001B[0m\u001B[1;33m,\u001B[0m \u001B[0mexperiment\u001B[0m\u001B[1;33m:\u001B[0m \u001B[0mExperiment\u001B[0m\u001B[1;33m)\u001B[0m \u001B[1;33m->\u001B[0m \u001B[0mList\u001B[0m\u001B[1;33m[\u001B[0m\u001B[0mExperimentResult\u001B[0m\u001B[1;33m]\u001B[0m\u001B[1;33m:\u001B[0m\u001B[1;33m\u001B[0m\u001B[1;33m\u001B[0m\u001B[0m\n",
      "\u001B[1;32mc:\\program files\\python39\\lib\\site-packages\\pyquil_for_azure_quantum\\__init__.py\u001B[0m in \u001B[0;36mrun\u001B[1;34m(self, executable)\u001B[0m\n\u001B[0;32m    229\u001B[0m     \u001B[1;32mdef\u001B[0m \u001B[0mrun\u001B[0m\u001B[1;33m(\u001B[0m\u001B[0mself\u001B[0m\u001B[1;33m,\u001B[0m \u001B[0mexecutable\u001B[0m\u001B[1;33m:\u001B[0m \u001B[0mAzureProgram\u001B[0m\u001B[1;33m)\u001B[0m \u001B[1;33m->\u001B[0m \u001B[0mQAMExecutionResult\u001B[0m\u001B[1;33m:\u001B[0m  \u001B[1;31m# type: ignore[override]\u001B[0m\u001B[1;33m\u001B[0m\u001B[1;33m\u001B[0m\u001B[0m\n\u001B[0;32m    230\u001B[0m         \u001B[1;34m\"\"\"Run the executable and wait for its results\"\"\"\u001B[0m\u001B[1;33m\u001B[0m\u001B[1;33m\u001B[0m\u001B[0m\n\u001B[1;32m--> 231\u001B[1;33m         \u001B[1;32mreturn\u001B[0m \u001B[0msuper\u001B[0m\u001B[1;33m(\u001B[0m\u001B[1;33m)\u001B[0m\u001B[1;33m.\u001B[0m\u001B[0mrun\u001B[0m\u001B[1;33m(\u001B[0m\u001B[0mexecutable\u001B[0m\u001B[1;33m)\u001B[0m\u001B[1;33m\u001B[0m\u001B[1;33m\u001B[0m\u001B[0m\n\u001B[0m\u001B[0;32m    232\u001B[0m \u001B[1;33m\u001B[0m\u001B[0m\n\u001B[0;32m    233\u001B[0m     \u001B[1;32mdef\u001B[0m \u001B[0mexecute\u001B[0m\u001B[1;33m(\u001B[0m\u001B[0mself\u001B[0m\u001B[1;33m,\u001B[0m \u001B[0mexecutable\u001B[0m\u001B[1;33m:\u001B[0m \u001B[0mAzureProgram\u001B[0m\u001B[1;33m,\u001B[0m \u001B[0mname\u001B[0m\u001B[1;33m:\u001B[0m \u001B[0mstr\u001B[0m \u001B[1;33m=\u001B[0m \u001B[1;34m\"pyquil-azure-job\"\u001B[0m\u001B[1;33m)\u001B[0m \u001B[1;33m->\u001B[0m \u001B[0mAzureJob\u001B[0m\u001B[1;33m:\u001B[0m  \u001B[1;31m# type: ignore[override]\u001B[0m\u001B[1;33m\u001B[0m\u001B[1;33m\u001B[0m\u001B[0m\n",
      "\u001B[1;32mc:\\program files\\python39\\lib\\site-packages\\pyquil\\api\\_qam.py\u001B[0m in \u001B[0;36mrun\u001B[1;34m(self, executable)\u001B[0m\n\u001B[0;32m     69\u001B[0m         \u001B[0mRun\u001B[0m \u001B[0man\u001B[0m \u001B[0mexecutable\u001B[0m \u001B[0mto\u001B[0m \u001B[0mcompletion\u001B[0m \u001B[0mon\u001B[0m \u001B[0mthe\u001B[0m \u001B[0mQAM\u001B[0m\u001B[1;33m.\u001B[0m\u001B[1;33m\u001B[0m\u001B[1;33m\u001B[0m\u001B[0m\n\u001B[0;32m     70\u001B[0m         \"\"\"\n\u001B[1;32m---> 71\u001B[1;33m         \u001B[1;32mreturn\u001B[0m \u001B[0mself\u001B[0m\u001B[1;33m.\u001B[0m\u001B[0mget_result\u001B[0m\u001B[1;33m(\u001B[0m\u001B[0mself\u001B[0m\u001B[1;33m.\u001B[0m\u001B[0mexecute\u001B[0m\u001B[1;33m(\u001B[0m\u001B[0mexecutable\u001B[0m\u001B[1;33m)\u001B[0m\u001B[1;33m)\u001B[0m\u001B[1;33m\u001B[0m\u001B[1;33m\u001B[0m\u001B[0m\n\u001B[0m",
      "\u001B[1;32mc:\\program files\\python39\\lib\\site-packages\\pyquil_for_azure_quantum\\__init__.py\u001B[0m in \u001B[0;36mget_result\u001B[1;34m(self, execute_response)\u001B[0m\n\u001B[0;32m    269\u001B[0m         \u001B[0mjob\u001B[0m \u001B[1;33m=\u001B[0m \u001B[0mexecute_response\u001B[0m\u001B[1;33m.\u001B[0m\u001B[0mjob\u001B[0m\u001B[1;33m\u001B[0m\u001B[1;33m\u001B[0m\u001B[0m\n\u001B[0;32m    270\u001B[0m         \u001B[0mjob\u001B[0m\u001B[1;33m.\u001B[0m\u001B[0mwait_until_completed\u001B[0m\u001B[1;33m(\u001B[0m\u001B[1;33m)\u001B[0m\u001B[1;33m\u001B[0m\u001B[1;33m\u001B[0m\u001B[0m\n\u001B[1;32m--> 271\u001B[1;33m         \u001B[0mresult\u001B[0m \u001B[1;33m=\u001B[0m \u001B[0mResult\u001B[0m\u001B[1;33m(\u001B[0m\u001B[0mjob\u001B[0m\u001B[1;33m)\u001B[0m\u001B[1;33m\u001B[0m\u001B[1;33m\u001B[0m\u001B[0m\n\u001B[0m\u001B[0;32m    272\u001B[0m         \u001B[0mnumpified\u001B[0m \u001B[1;33m=\u001B[0m \u001B[1;33m{\u001B[0m\u001B[0mk\u001B[0m\u001B[1;33m:\u001B[0m \u001B[0marray\u001B[0m\u001B[1;33m(\u001B[0m\u001B[0mv\u001B[0m\u001B[1;33m)\u001B[0m \u001B[1;32mfor\u001B[0m \u001B[0mk\u001B[0m\u001B[1;33m,\u001B[0m \u001B[0mv\u001B[0m \u001B[1;32min\u001B[0m \u001B[0mresult\u001B[0m\u001B[1;33m.\u001B[0m\u001B[0mdata_per_register\u001B[0m\u001B[1;33m.\u001B[0m\u001B[0mitems\u001B[0m\u001B[1;33m(\u001B[0m\u001B[1;33m)\u001B[0m\u001B[1;33m}\u001B[0m\u001B[1;33m\u001B[0m\u001B[1;33m\u001B[0m\u001B[0m\n\u001B[0;32m    273\u001B[0m         return QAMExecutionResult(\n",
      "\u001B[1;32mc:\\program files\\python39\\lib\\site-packages\\azure\\quantum\\target\\rigetti\\result.py\u001B[0m in \u001B[0;36m__init__\u001B[1;34m(self, job)\u001B[0m\n\u001B[0;32m     39\u001B[0m \u001B[1;33m\u001B[0m\u001B[0m\n\u001B[0;32m     40\u001B[0m         \u001B[1;32mif\u001B[0m \u001B[0mjob\u001B[0m\u001B[1;33m.\u001B[0m\u001B[0mdetails\u001B[0m\u001B[1;33m.\u001B[0m\u001B[0mstatus\u001B[0m \u001B[1;33m!=\u001B[0m \u001B[1;34m\"Succeeded\"\u001B[0m\u001B[1;33m:\u001B[0m\u001B[1;33m\u001B[0m\u001B[1;33m\u001B[0m\u001B[0m\n\u001B[1;32m---> 41\u001B[1;33m             raise RuntimeError(\n\u001B[0m\u001B[0;32m     42\u001B[0m                 \u001B[1;34m\"Cannot retrieve results as job execution failed \"\u001B[0m\u001B[1;33m\u001B[0m\u001B[1;33m\u001B[0m\u001B[0m\n\u001B[0;32m     43\u001B[0m                 \u001B[1;34mf\"(status: {job.details.status}.\"\u001B[0m\u001B[1;33m\u001B[0m\u001B[1;33m\u001B[0m\u001B[0m\n",
      "\u001B[1;31mRuntimeError\u001B[0m: Cannot retrieve results as job execution failed (status: Failed.error: {'additional_properties': {}, 'code': 'InvalidInputData', 'message': 'Execution timed out.  Note: time limit: 10 seconds.'})"
     ]
    }
   ],
   "source": [
    "qubits = 4\n",
    "numshots = 200\n",
    "maxN = 21\n",
    "noise_levels = [0, 0.08, 0.3 , 1]\n",
    "\n",
    "simulations, real = run_experiment('Aspen-M-3', qubits, numshots, maxN, noise_levels)\n",
    "plot_results(simulations, noise_levels, real)"
   ],
   "metadata": {
    "collapsed": false
   }
  },
  {
   "cell_type": "markdown",
   "source": [
    "GHZ"
   ],
   "metadata": {
    "collapsed": false
   }
  },
  {
   "cell_type": "code",
   "execution_count": 5,
   "outputs": [],
   "source": [
    "def ghz(qc, qubits, numshots, noise=False, cal=None, intensity=1):\n",
    "    p = Program()\n",
    "    p.declare(\"ro\", \"BIT\", 3)\n",
    "    p += H(qubits[0])\n",
    "    p += CNOT(qubits[0], qubits[1])\n",
    "    p += CNOT(qubits[1], qubits[2])\n",
    "    p += MEASURE(qubits[0], (\"ro\", 0))\n",
    "    p += MEASURE(qubits[1], (\"ro\", 1))\n",
    "    p += MEASURE(qubits[2], (\"ro\", 2))\n",
    "    p.wrap_in_numshots_loop(numshots)\n",
    "    if noise:\n",
    "        if cal is not None:\n",
    "            p = add_noise_to_program(qc, p, calibrations=cal, noise_intensity=intensity)\n",
    "        else:\n",
    "            p = add_noise_to_program(qc, p, noise_intensity=intensity)\n",
    "    return p\n",
    "\n",
    "def run_experiment(qpu, qubits, numshots):\n",
    "    qvm = get_qc(qpu, as_qvm=True, execution_timeout=1000)\n",
    "    cal = Calibrations(qvm)\n",
    "    no_noise = qvm.run(ghz(qvm,qubits,numshots, False)).readout_data.get(\"ro\")\n",
    "    noisy = qvm.run(ghz(qvm,qubits,numshots, True, cal)).readout_data.get(\"ro\")\n",
    "\n",
    "\n",
    "    qc = get_qpu(qpu)\n",
    "    exe = qc.compile(ghz(qc,qubits,numshots, False), to_native_gates=True)\n",
    "    real = qc.run(exe).readout_data.get(\"ro\")\n",
    "    return no_noise, noisy , real\n",
    "\n",
    "\n",
    "def plot_results(results, label):\n",
    "    # Initialize the histogram with all possible states and zero counts\n",
    "    num_qubits = 3  # Adjust this to the number of qubits in your GHZ experiment\n",
    "    histogram = {format(i, f\"0{num_qubits}b\"): 0 for i in range(2 ** num_qubits)}\n",
    "\n",
    "    for i in results:\n",
    "        code = (\"00\" + str(int(float(i[2]) * 100 + float(i[1]) * 10 + float(i[0]))))[-3:]\n",
    "        histogram[code] = histogram.get(code, 0) + 1\n",
    "\n",
    "    histogram = dict(sorted(histogram.items()))\n",
    "    plt.bar(*zip(*histogram.items()), label=label)\n",
    "    plt.xlabel('State')\n",
    "    plt.ylabel('Counts')\n",
    "    plt.legend()\n",
    "    plt.show()"
   ],
   "metadata": {
    "collapsed": false
   }
  },
  {
   "cell_type": "markdown",
   "source": [],
   "metadata": {
    "collapsed": false
   }
  },
  {
   "cell_type": "code",
   "execution_count": 8,
   "outputs": [
    {
     "name": "stderr",
     "output_type": "stream",
     "text": [
      "WARNING - EnvironmentCredential.get_token failed: EnvironmentCredential authentication unavailable. Environment variables are not fully configured.\n",
      "Visit https://aka.ms/azsdk/python/identity/environmentcredential/troubleshoot to troubleshoot.this issue.\n",
      "WARNING - ImdsCredential.get_token failed: ManagedIdentityCredential authentication unavailable, no response from the IMDS endpoint.\n",
      "WARNING - ManagedIdentityCredential.get_token failed: ManagedIdentityCredential authentication unavailable, no response from the IMDS endpoint.\n",
      "WARNING - VisualStudioCodeCredential.get_token failed: Failed to get Azure user details from Visual Studio Code.\n",
      "WARNING - VSCodeCredential.get_token failed: Failed to get Azure user details from Visual Studio Code.\n",
      "WARNING - AzureCliCredential.get_token failed: Azure CLI not found on path\n",
      "WARNING - AzurePowerShellCredential.get_token failed: Az.Account module >= 2.2.0 is not installed\n"
     ]
    },
    {
     "name": "stdout",
     "output_type": "stream",
     "text": [
      ".............................................................................................."
     ]
    },
    {
     "data": {
      "text/plain": "<Figure size 432x288 with 1 Axes>",
      "image/png": "[encoded data removed]"
     },
     "metadata": {
      "needs_background": "light"
     },
     "output_type": "display_data"
    },
    {
     "data": {
      "text/plain": "<Figure size 432x288 with 1 Axes>",
      "image/png": "[encoded data removed]"
     },
     "metadata": {
      "needs_background": "light"
     },
     "output_type": "display_data"
    },
    {
     "data": {
      "text/plain": "<Figure size 432x288 with 1 Axes>",
      "image/png": "[encoded data removed]"
     },
     "metadata": {
      "needs_background": "light"
     },
     "output_type": "display_data"
    }
   ],
   "source": [
    "no_noise, noisy, real = run_experiment('Aspen-M-3',[0,1,2], 1000)\n",
    "plot_results(no_noise, 'no noise')\n",
    "plot_results(noisy, 'noisy')\n",
    "plot_results(real, 'real')"
   ],
   "metadata": {
    "collapsed": false
   }
  },
  {
   "cell_type": "markdown",
   "source": [
    "For a given Program - p, and a given quantum computer qc, we can add noise to it using the following function:"
   ],
   "metadata": {
    "collapsed": false
   }
  },
  {
   "cell_type": "code",
   "execution_count": 1,
   "outputs": [
    {
     "ename": "NameError",
     "evalue": "name 'run_experiment' is not defined",
     "output_type": "error",
     "traceback": [
      "\u001B[1;31m---------------------------------------------------------------------------\u001B[0m",
      "\u001B[1;31mNameError\u001B[0m                                 Traceback (most recent call last)",
      "\u001B[1;32m~\\AppData\\Local\\Temp\\ipykernel_19380\\3980279833.py\u001B[0m in \u001B[0;36m<module>\u001B[1;34m\u001B[0m\n\u001B[1;32m----> 1\u001B[1;33m \u001B[0mno_noise\u001B[0m\u001B[1;33m,\u001B[0m \u001B[0mnoisy\u001B[0m\u001B[1;33m,\u001B[0m \u001B[0mreal\u001B[0m \u001B[1;33m=\u001B[0m \u001B[0mrun_experiment\u001B[0m\u001B[1;33m(\u001B[0m\u001B[1;34m'Aspen-M-3'\u001B[0m\u001B[1;33m,\u001B[0m\u001B[1;33m[\u001B[0m\u001B[1;36m0\u001B[0m\u001B[1;33m,\u001B[0m\u001B[1;36m1\u001B[0m\u001B[1;33m,\u001B[0m\u001B[1;36m2\u001B[0m\u001B[1;33m]\u001B[0m\u001B[1;33m,\u001B[0m \u001B[1;36m1000\u001B[0m\u001B[1;33m)\u001B[0m\u001B[1;33m\u001B[0m\u001B[1;33m\u001B[0m\u001B[0m\n\u001B[0m\u001B[0;32m      2\u001B[0m \u001B[0mplot_results\u001B[0m\u001B[1;33m(\u001B[0m\u001B[0mno_noise\u001B[0m\u001B[1;33m,\u001B[0m \u001B[1;34m'no noise'\u001B[0m\u001B[1;33m)\u001B[0m\u001B[1;33m\u001B[0m\u001B[1;33m\u001B[0m\u001B[0m\n\u001B[0;32m      3\u001B[0m \u001B[0mplot_results\u001B[0m\u001B[1;33m(\u001B[0m\u001B[0mnoisy\u001B[0m\u001B[1;33m,\u001B[0m \u001B[1;34m'noisy'\u001B[0m\u001B[1;33m)\u001B[0m\u001B[1;33m\u001B[0m\u001B[1;33m\u001B[0m\u001B[0m\n\u001B[0;32m      4\u001B[0m \u001B[0mplot_results\u001B[0m\u001B[1;33m(\u001B[0m\u001B[0mreal\u001B[0m\u001B[1;33m,\u001B[0m \u001B[1;34m'real'\u001B[0m\u001B[1;33m)\u001B[0m\u001B[1;33m\u001B[0m\u001B[1;33m\u001B[0m\u001B[0m\n",
      "\u001B[1;31mNameError\u001B[0m: name 'run_experiment' is not defined"
     ]
    }
   ],
   "source": [
    "no_noise, noisy, real = run_experiment('Aspen-M-3',[0,1,2], 1000)\n",
    "plot_results(no_noise, 'no noise')\n",
    "plot_results(noisy, 'noisy')\n",
    "plot_results(real, 'real')"
   ],
   "metadata": {
    "collapsed": false
   }
  },
  {
   "cell_type": "code",
   "execution_count": 1,
   "outputs": [
    {
     "ename": "NameError",
     "evalue": "name 'Program' is not defined",
     "output_type": "error",
     "traceback": [
      "\u001B[1;31m---------------------------------------------------------------------------\u001B[0m",
      "\u001B[1;31mNameError\u001B[0m                                 Traceback (most recent call last)",
      "\u001B[1;32m~\\AppData\\Local\\Temp\\ipykernel_22848\\2442586654.py\u001B[0m in \u001B[0;36m<module>\u001B[1;34m\u001B[0m\n\u001B[1;32m----> 1\u001B[1;33m \u001B[0mp\u001B[0m \u001B[1;33m=\u001B[0m \u001B[0mProgram\u001B[0m\u001B[1;33m(\u001B[0m\u001B[1;33m)\u001B[0m\u001B[1;33m\u001B[0m\u001B[1;33m\u001B[0m\u001B[0m\n\u001B[0m\u001B[0;32m      2\u001B[0m \u001B[0mqc\u001B[0m \u001B[1;33m=\u001B[0m \u001B[0mget_qc\u001B[0m\u001B[1;33m(\u001B[0m\u001B[1;34m'Aspen-M-3'\u001B[0m\u001B[1;33m,\u001B[0m \u001B[0mas_qvm\u001B[0m\u001B[1;33m=\u001B[0m\u001B[1;32mTrue\u001B[0m\u001B[1;33m,\u001B[0m \u001B[0mexecution_timeout\u001B[0m\u001B[1;33m=\u001B[0m\u001B[1;36m1000\u001B[0m\u001B[1;33m)\u001B[0m\u001B[1;33m\u001B[0m\u001B[1;33m\u001B[0m\u001B[0m\n",
      "\u001B[1;31mNameError\u001B[0m: name 'Program' is not defined"
     ]
    }
   ],
   "source": [
    "p = Program()\n",
    "qc = get_qc('Aspen-M-3', as_qvm=True, execution_timeout=1000)\n",
    "p = add_noise_to_program(\n",
    "\t\tqc =qc, # the quantum computer to mimic\n",
    "\t\tp= p, # the program to add noise to\n",
    "\t\tconvert_to_native = True, # whether to convert the program to native gates, Note that this will delete delays\n",
    "\t\tcalibrations = None, # a pre obtained calibrations to reduce the http requests or modify the wanted calibrations\n",
    "\t\tdepolarizing = True, # whether to add depolarizing noise according to the fidelity calibration\n",
    "\t\tdecoherence_after_1q_gate = False, # whether to add decoherence noise after every 1 qubit gate\n",
    "\t\tdecoherence_after_2q_gate = True, # whether to add decoherence noise after every 2 qubit gate\n",
    "\t\tdecoherence_only_on_targets = False, # whether to add decoherence noise only on the targets qubits of the gates\n",
    "\t\treadout_noise = True, # whether to add readout noise according to the readout calibration\n",
    "\t\tnoise_intensity = 1.0 # the intensity of the noise, 1.0 is default, 0.0 is no noise\n",
    "        )"
   ],
   "metadata": {
    "collapsed": false
   }
  },
  {
   "cell_type": "code",
   "execution_count": 23,
   "outputs": [
    {
     "name": "stdout",
     "output_type": "stream",
     "text": [
      "RX(pi) 0\n",
      "RZ(pi/2) 1\n",
      "CZ 0 1\n",
      "RZ(pi/4) 2\n",
      "CZ 1 2\n",
      "\n",
      "DEFGATE Depolarizing_1Q_gate:\n",
      "    1.0, 0\n",
      "    0, 1.0\n",
      "\n",
      "DEFGATE Depolarizing_CZ:\n",
      "    1.0, 0, 0, 0\n",
      "    0, 1.0, 0, 0\n",
      "    0, 0, 1.0, 0\n",
      "    0, 0, 0, 1.0\n",
      "\n",
      "DEFGATE Damping_and_dephasing_for_2Q_gate:\n",
      "    1.0, 0\n",
      "    0, 1.0\n",
      "\n",
      "RX(pi) 0\n",
      "Depolarizing_1Q_gate 0\n",
      "RZ(pi/2) 1\n",
      "Depolarizing_1Q_gate 1\n",
      "CZ 0 1\n",
      "Depolarizing_CZ 0 1\n",
      "Damping_and_dephasing_for_2Q_gate 2\n",
      "RZ(pi/4) 2\n",
      "Depolarizing_1Q_gate 2\n",
      "CZ 1 2\n",
      "Depolarizing_CZ 1 2\n",
      "Damping_and_dephasing_for_2Q_gate 0\n",
      "PRAGMA ADD-KRAUS Depolarizing_1Q_gate 0 \"(0.9992632488008798 0.0 0.0 0.9992632488008798)\"\n",
      "PRAGMA ADD-KRAUS Depolarizing_1Q_gate 0 \"(0.0 0.022158215902242293 0.022158215902242293 0.0)\"\n",
      "PRAGMA ADD-KRAUS Depolarizing_1Q_gate 0 \"(0.0 -0.022158215902242293i 0.022158215902242293i 0.0)\"\n",
      "PRAGMA ADD-KRAUS Depolarizing_1Q_gate 0 \"(0.022158215902242293 0.0 0.0 -0.022158215902242293)\"\n",
      "PRAGMA ADD-KRAUS Depolarizing_1Q_gate 1 \"(0.9894955017766282 0.0 0.0 0.9894955017766282)\"\n",
      "PRAGMA ADD-KRAUS Depolarizing_1Q_gate 1 \"(0.0 0.08346386835794846 0.08346386835794846 0.0)\"\n",
      "PRAGMA ADD-KRAUS Depolarizing_1Q_gate 1 \"(0.0 -0.08346386835794846i 0.08346386835794846i 0.0)\"\n",
      "PRAGMA ADD-KRAUS Depolarizing_1Q_gate 1 \"(0.08346386835794846 0.0 0.0 -0.08346386835794846)\"\n",
      "PRAGMA ADD-KRAUS Depolarizing_1Q_gate 2 \"(0.9997129207973349 0.0 0.0 0.9997129207973349)\"\n",
      "PRAGMA ADD-KRAUS Depolarizing_1Q_gate 2 \"(0.0 0.013833244869536214 0.013833244869536214 0.0)\"\n",
      "PRAGMA ADD-KRAUS Depolarizing_1Q_gate 2 \"(0.0 -0.013833244869536214i 0.013833244869536214i 0.0)\"\n",
      "PRAGMA ADD-KRAUS Depolarizing_1Q_gate 2 \"(0.013833244869536214 0.0 0.0 -0.013833244869536214)\"\n",
      "PRAGMA ADD-KRAUS Depolarizing_CZ 0 1 \"(0.8610351294578106 0.0 0.0 0.0 0.0 0.8610351294578106 0.0 0.0 0.0 0.0 0.8610351294578106 0.0 0.0 0.0 0.0 0.8610351294578106)\"\n",
      "PRAGMA ADD-KRAUS Depolarizing_CZ 0 1 \"(0.0 0.13130587847708147 0.0 0.0 0.13130587847708147 0.0 0.0 0.0 0.0 0.0 0.0 0.13130587847708147 0.0 0.0 0.13130587847708147 0.0)\"\n",
      "PRAGMA ADD-KRAUS Depolarizing_CZ 0 1 \"(0.0 -0.13130587847708147i 0.0 0.0 0.13130587847708147i 0.0 0.0 0.0 0.0 0.0 0.0 -0.13130587847708147i 0.0 0.0 0.13130587847708147i 0.0)\"\n",
      "PRAGMA ADD-KRAUS Depolarizing_CZ 0 1 \"(0.13130587847708147 0.0 0.0 0.0 0.0 -0.13130587847708147 0.0 -0.0 0.0 0.0 0.13130587847708147 0.0 0.0 -0.0 0.0 -0.13130587847708147)\"\n",
      "PRAGMA ADD-KRAUS Depolarizing_CZ 0 1 \"(0.0 0.0 0.13130587847708147 0.0 0.0 0.0 0.0 0.13130587847708147 0.13130587847708147 0.0 0.0 0.0 0.0 0.13130587847708147 0.0 0.0)\"\n",
      "PRAGMA ADD-KRAUS Depolarizing_CZ 0 1 \"(0.0 0.0 0.0 0.13130587847708147 0.0 0.0 0.13130587847708147 0.0 0.0 0.13130587847708147 0.0 0.0 0.13130587847708147 0.0 0.0 0.0)\"\n",
      "PRAGMA ADD-KRAUS Depolarizing_CZ 0 1 \"(0.0 0.0 0.0 -0.13130587847708147i 0.0 0.0 0.13130587847708147i 0.0 0.0 -0.13130587847708147i 0.0 0.0 0.13130587847708147i 0.0 0.0 0.0)\"\n",
      "PRAGMA ADD-KRAUS Depolarizing_CZ 0 1 \"(0.0 0.0 0.13130587847708147 0.0 0.0 -0.0 0.0 -0.13130587847708147 0.13130587847708147 0.0 0.0 0.0 0.0 -0.13130587847708147 0.0 -0.0)\"\n",
      "PRAGMA ADD-KRAUS Depolarizing_CZ 0 1 \"(0.0 0.0 -0.13130587847708147i 0.0 0.0 0.0 0.0 -0.13130587847708147i 0.13130587847708147i 0.0 0.0 0.0 0.0 0.13130587847708147i 0.0 0.0)\"\n",
      "PRAGMA ADD-KRAUS Depolarizing_CZ 0 1 \"(0.0 0.0 0.0 -0.13130587847708147i 0.0 0.0 -0.13130587847708147i 0.0 0.0 0.13130587847708147i 0.0 0.0 0.13130587847708147i 0.0 0.0 0.0)\"\n",
      "PRAGMA ADD-KRAUS Depolarizing_CZ 0 1 \"(0.0 0.0 0.0 -0.13130587847708147 0.0 0.0 0.13130587847708147 0.0 0.0 0.13130587847708147 0.0 0.0 -0.13130587847708147 0.0 0.0 0.0)\"\n",
      "PRAGMA ADD-KRAUS Depolarizing_CZ 0 1 \"(0.0 0.0 -0.13130587847708147i 0.0 0.0 -0.0 0.0 0.13130587847708147i 0.13130587847708147i 0.0 0.0 0.0 0.0 -0.13130587847708147i 0.0 -0.0)\"\n",
      "PRAGMA ADD-KRAUS Depolarizing_CZ 0 1 \"(0.13130587847708147 0.0 0.0 0.0 0.0 0.13130587847708147 0.0 0.0 0.0 0.0 -0.13130587847708147 -0.0 0.0 0.0 -0.0 -0.13130587847708147)\"\n",
      "PRAGMA ADD-KRAUS Depolarizing_CZ 0 1 \"(0.0 0.13130587847708147 0.0 0.0 0.13130587847708147 0.0 0.0 0.0 0.0 0.0 -0.0 -0.13130587847708147 0.0 0.0 -0.13130587847708147 -0.0)\"\n",
      "PRAGMA ADD-KRAUS Depolarizing_CZ 0 1 \"(0.0 -0.13130587847708147i 0.0 0.0 0.13130587847708147i 0.0 0.0 0.0 0.0 0.0 -0.0 0.13130587847708147i 0.0 0.0 -0.13130587847708147i -0.0)\"\n",
      "PRAGMA ADD-KRAUS Depolarizing_CZ 0 1 \"(0.13130587847708147 0.0 0.0 0.0 0.0 -0.13130587847708147 0.0 -0.0 0.0 0.0 -0.13130587847708147 -0.0 0.0 -0.0 -0.0 0.13130587847708147)\"\n",
      "PRAGMA ADD-KRAUS Depolarizing_CZ 1 2 \"(0.928664268548674 0.0 0.0 0.0 0.0 0.928664268548674 0.0 0.0 0.0 0.0 0.928664268548674 0.0 0.0 0.0 0.0 0.928664268548674)\"\n",
      "PRAGMA ADD-KRAUS Depolarizing_CZ 1 2 \"(0.0 0.09577149065038659 0.0 0.0 0.09577149065038659 0.0 0.0 0.0 0.0 0.0 0.0 0.09577149065038659 0.0 0.0 0.09577149065038659 0.0)\"\n",
      "PRAGMA ADD-KRAUS Depolarizing_CZ 1 2 \"(0.0 -0.09577149065038659i 0.0 0.0 0.09577149065038659i 0.0 0.0 0.0 0.0 0.0 0.0 -0.09577149065038659i 0.0 0.0 0.09577149065038659i 0.0)\"\n",
      "PRAGMA ADD-KRAUS Depolarizing_CZ 1 2 \"(0.09577149065038659 0.0 0.0 0.0 0.0 -0.09577149065038659 0.0 -0.0 0.0 0.0 0.09577149065038659 0.0 0.0 -0.0 0.0 -0.09577149065038659)\"\n",
      "PRAGMA ADD-KRAUS Depolarizing_CZ 1 2 \"(0.0 0.0 0.09577149065038659 0.0 0.0 0.0 0.0 0.09577149065038659 0.09577149065038659 0.0 0.0 0.0 0.0 0.09577149065038659 0.0 0.0)\"\n",
      "PRAGMA ADD-KRAUS Depolarizing_CZ 1 2 \"(0.0 0.0 0.0 0.09577149065038659 0.0 0.0 0.09577149065038659 0.0 0.0 0.09577149065038659 0.0 0.0 0.09577149065038659 0.0 0.0 0.0)\"\n",
      "PRAGMA ADD-KRAUS Depolarizing_CZ 1 2 \"(0.0 0.0 0.0 -0.09577149065038659i 0.0 0.0 0.09577149065038659i 0.0 0.0 -0.09577149065038659i 0.0 0.0 0.09577149065038659i 0.0 0.0 0.0)\"\n",
      "PRAGMA ADD-KRAUS Depolarizing_CZ 1 2 \"(0.0 0.0 0.09577149065038659 0.0 0.0 -0.0 0.0 -0.09577149065038659 0.09577149065038659 0.0 0.0 0.0 0.0 -0.09577149065038659 0.0 -0.0)\"\n",
      "PRAGMA ADD-KRAUS Depolarizing_CZ 1 2 \"(0.0 0.0 -0.09577149065038659i 0.0 0.0 0.0 0.0 -0.09577149065038659i 0.09577149065038659i 0.0 0.0 0.0 0.0 0.09577149065038659i 0.0 0.0)\"\n",
      "PRAGMA ADD-KRAUS Depolarizing_CZ 1 2 \"(0.0 0.0 0.0 -0.09577149065038659i 0.0 0.0 -0.09577149065038659i 0.0 0.0 0.09577149065038659i 0.0 0.0 0.09577149065038659i 0.0 0.0 0.0)\"\n",
      "PRAGMA ADD-KRAUS Depolarizing_CZ 1 2 \"(0.0 0.0 0.0 -0.09577149065038659 0.0 0.0 0.09577149065038659 0.0 0.0 0.09577149065038659 0.0 0.0 -0.09577149065038659 0.0 0.0 0.0)\"\n",
      "PRAGMA ADD-KRAUS Depolarizing_CZ 1 2 \"(0.0 0.0 -0.09577149065038659i 0.0 0.0 -0.0 0.0 0.09577149065038659i 0.09577149065038659i 0.0 0.0 0.0 0.0 -0.09577149065038659i 0.0 -0.0)\"\n",
      "PRAGMA ADD-KRAUS Depolarizing_CZ 1 2 \"(0.09577149065038659 0.0 0.0 0.0 0.0 0.09577149065038659 0.0 0.0 0.0 0.0 -0.09577149065038659 -0.0 0.0 0.0 -0.0 -0.09577149065038659)\"\n",
      "PRAGMA ADD-KRAUS Depolarizing_CZ 1 2 \"(0.0 0.09577149065038659 0.0 0.0 0.09577149065038659 0.0 0.0 0.0 0.0 0.0 -0.0 -0.09577149065038659 0.0 0.0 -0.09577149065038659 -0.0)\"\n",
      "PRAGMA ADD-KRAUS Depolarizing_CZ 1 2 \"(0.0 -0.09577149065038659i 0.0 0.0 0.09577149065038659i 0.0 0.0 0.0 0.0 0.0 -0.0 0.09577149065038659i 0.0 0.0 -0.09577149065038659i -0.0)\"\n",
      "PRAGMA ADD-KRAUS Depolarizing_CZ 1 2 \"(0.09577149065038659 0.0 0.0 0.0 0.0 -0.09577149065038659 0.0 -0.0 0.0 0.0 -0.09577149065038659 -0.0 0.0 -0.0 -0.0 0.09577149065038659)\"\n",
      "PRAGMA ADD-KRAUS Damping_and_dephasing_for_2Q_gate 0 \"(0.9997723866670963 0.0 0.0 0.9910300710539008)\"\n",
      "PRAGMA ADD-KRAUS Damping_and_dephasing_for_2Q_gate 0 \"(0.021334827348209632 0.0 0.0 -0.021148269090831805)\"\n",
      "PRAGMA ADD-KRAUS Damping_and_dephasing_for_2Q_gate 0 \"(0.0 0.1319250674016213 0.0 0.0)\"\n",
      "PRAGMA ADD-KRAUS Damping_and_dephasing_for_2Q_gate 0 \"(0.0 -0.0028152393219194926 0.0 0.0)\"\n",
      "PRAGMA ADD-KRAUS Damping_and_dephasing_for_2Q_gate 2 \"(0.9981717922867157 0.0 0.0 0.9934084144183704)\"\n",
      "PRAGMA ADD-KRAUS Damping_and_dephasing_for_2Q_gate 2 \"(0.06044065753386229 0.0 0.0 -0.060152228535297336)\"\n",
      "PRAGMA ADD-KRAUS Damping_and_dephasing_for_2Q_gate 2 \"(0.0 0.09739943059204005 0.0 0.0)\"\n",
      "PRAGMA ADD-KRAUS Damping_and_dephasing_for_2Q_gate 2 \"(0.0 -0.005897667790151025 0.0 0.0)\"\n",
      "PRAGMA READOUT-POVM 0 \"(0.959 0.041000000000000036 0.041000000000000036 0.959)\"\n",
      "PRAGMA READOUT-POVM 1 \"(0.8240000000000001 0.17599999999999993 0.17599999999999993 0.8240000000000001)\"\n",
      "PRAGMA READOUT-POVM 2 \"(0.9299999999999999 0.07000000000000006 0.07000000000000006 0.9299999999999999)\"\n",
      "\n"
     ]
    }
   ],
   "source": [
    "import numpy as np\n",
    "from pyquil import Program\n",
    "from pyquil.gates import RX, RZ, CZ\n",
    "\n",
    "# Initialize a new quantum program\n",
    "quantum_program = Program()\n",
    "\n",
    "# Apply an RX(pi) gate on qubit 0\n",
    "quantum_program += RX(np.pi, 0)\n",
    "\n",
    "# Apply an RZ(pi/2) gate on qubit 1\n",
    "quantum_program += RZ(np.pi / 2, 1)\n",
    "\n",
    "# Apply a CZ gate with qubit 0 as control and qubit 1 as target\n",
    "quantum_program += CZ(0, 1)\n",
    "\n",
    "# Apply an RZ(pi/4) gate on qubit 2\n",
    "quantum_program += RZ(np.pi / 4, 2)\n",
    "\n",
    "# Apply a CZ gate with qubit 1 as control and qubit 2 as target\n",
    "quantum_program += CZ(1, 2)\n",
    "\n",
    "# Print the resulting quantum program\n",
    "print(quantum_program)\n",
    "\n",
    "qc = get_qc('Aspen-M-3', as_qvm=True)\n",
    "\n",
    "noisy_quantum_program = add_noise_to_program(qc, quantum_program, convert_to_native=False)\n",
    "\n",
    "print(noisy_quantum_program)"
   ],
   "metadata": {
    "collapsed": false
   }
  },
  {
   "cell_type": "markdown",
   "source": [],
   "metadata": {
    "collapsed": false
   }
  },
  {
   "cell_type": "code",
   "execution_count": 21,
   "outputs": [
    {
     "ename": "MissingOptionalLibraryError",
     "evalue": "\"The 'pylatexenc' library is required to use 'MatplotlibDrawer'. You can install it with 'pip install pylatexenc'.\"",
     "output_type": "error",
     "traceback": [
      "\u001B[1;31m---------------------------------------------------------------------------\u001B[0m",
      "\u001B[1;31mMissingOptionalLibraryError\u001B[0m               Traceback (most recent call last)",
      "\u001B[1;32m~\\AppData\\Local\\Temp\\ipykernel_3520\\3751684233.py\u001B[0m in \u001B[0;36m<module>\u001B[1;34m\u001B[0m\n\u001B[0;32m     22\u001B[0m \u001B[1;33m\u001B[0m\u001B[0m\n\u001B[0;32m     23\u001B[0m \u001B[1;31m# Draw the quantum circuit using the 'mpl' (matplotlib) option for a nicer diagram\u001B[0m\u001B[1;33m\u001B[0m\u001B[1;33m\u001B[0m\u001B[0m\n\u001B[1;32m---> 24\u001B[1;33m \u001B[0mcircuit_drawer\u001B[0m\u001B[1;33m(\u001B[0m\u001B[0mqc\u001B[0m\u001B[1;33m,\u001B[0m \u001B[0moutput\u001B[0m\u001B[1;33m=\u001B[0m\u001B[1;34m'mpl'\u001B[0m\u001B[1;33m)\u001B[0m\u001B[1;33m\u001B[0m\u001B[1;33m\u001B[0m\u001B[0m\n\u001B[0m",
      "\u001B[1;32mc:\\program files\\python39\\lib\\site-packages\\qiskit\\visualization\\circuit\\circuit_visualization.py\u001B[0m in \u001B[0;36mcircuit_drawer\u001B[1;34m(circuit, scale, filename, style, output, interactive, plot_barriers, reverse_bits, justify, vertical_compression, idle_wires, with_layout, fold, ax, initial_state, cregbundle, wire_order)\u001B[0m\n\u001B[0;32m    263\u001B[0m         )\n\u001B[0;32m    264\u001B[0m     \u001B[1;32melif\u001B[0m \u001B[0moutput\u001B[0m \u001B[1;33m==\u001B[0m \u001B[1;34m\"mpl\"\u001B[0m\u001B[1;33m:\u001B[0m\u001B[1;33m\u001B[0m\u001B[1;33m\u001B[0m\u001B[0m\n\u001B[1;32m--> 265\u001B[1;33m         image = _matplotlib_circuit_drawer(\n\u001B[0m\u001B[0;32m    266\u001B[0m             \u001B[0mcircuit\u001B[0m\u001B[1;33m,\u001B[0m\u001B[1;33m\u001B[0m\u001B[1;33m\u001B[0m\u001B[0m\n\u001B[0;32m    267\u001B[0m             \u001B[0mscale\u001B[0m\u001B[1;33m=\u001B[0m\u001B[0mscale\u001B[0m\u001B[1;33m,\u001B[0m\u001B[1;33m\u001B[0m\u001B[1;33m\u001B[0m\u001B[0m\n",
      "\u001B[1;32mc:\\program files\\python39\\lib\\site-packages\\qiskit\\visualization\\circuit\\circuit_visualization.py\u001B[0m in \u001B[0;36m_matplotlib_circuit_drawer\u001B[1;34m(circuit, scale, filename, style, plot_barriers, reverse_bits, justify, idle_wires, with_layout, fold, ax, initial_state, cregbundle, wire_order)\u001B[0m\n\u001B[0;32m    642\u001B[0m         \u001B[0mfold\u001B[0m \u001B[1;33m=\u001B[0m \u001B[1;36m25\u001B[0m\u001B[1;33m\u001B[0m\u001B[1;33m\u001B[0m\u001B[0m\n\u001B[0;32m    643\u001B[0m \u001B[1;33m\u001B[0m\u001B[0m\n\u001B[1;32m--> 644\u001B[1;33m     qcd = _matplotlib.MatplotlibDrawer(\n\u001B[0m\u001B[0;32m    645\u001B[0m         \u001B[0mqubits\u001B[0m\u001B[1;33m,\u001B[0m\u001B[1;33m\u001B[0m\u001B[1;33m\u001B[0m\u001B[0m\n\u001B[0;32m    646\u001B[0m         \u001B[0mclbits\u001B[0m\u001B[1;33m,\u001B[0m\u001B[1;33m\u001B[0m\u001B[1;33m\u001B[0m\u001B[0m\n",
      "\u001B[1;32mc:\\program files\\python39\\lib\\site-packages\\qiskit\\utils\\classtools.py\u001B[0m in \u001B[0;36mout\u001B[1;34m(*args, **kwargs)\u001B[0m\n\u001B[0;32m    115\u001B[0m             \u001B[1;32mfor\u001B[0m \u001B[0mcallback\u001B[0m \u001B[1;32min\u001B[0m \u001B[0mself\u001B[0m\u001B[1;33m.\u001B[0m\u001B[0m_before\u001B[0m\u001B[1;33m:\u001B[0m\u001B[1;33m\u001B[0m\u001B[1;33m\u001B[0m\u001B[0m\n\u001B[0;32m    116\u001B[0m                 \u001B[0mcallback\u001B[0m\u001B[1;33m.\u001B[0m\u001B[0m__get__\u001B[0m\u001B[1;33m(\u001B[0m\u001B[0mobj\u001B[0m\u001B[1;33m,\u001B[0m \u001B[0mobjtype\u001B[0m\u001B[1;33m)\u001B[0m\u001B[1;33m(\u001B[0m\u001B[1;33m*\u001B[0m\u001B[0margs\u001B[0m\u001B[1;33m,\u001B[0m \u001B[1;33m**\u001B[0m\u001B[0mkwargs\u001B[0m\u001B[1;33m)\u001B[0m\u001B[1;33m\u001B[0m\u001B[1;33m\u001B[0m\u001B[0m\n\u001B[1;32m--> 117\u001B[1;33m             \u001B[0mretval\u001B[0m \u001B[1;33m=\u001B[0m \u001B[0mmethod\u001B[0m\u001B[1;33m(\u001B[0m\u001B[1;33m*\u001B[0m\u001B[0margs\u001B[0m\u001B[1;33m,\u001B[0m \u001B[1;33m**\u001B[0m\u001B[0mkwargs\u001B[0m\u001B[1;33m)\u001B[0m\u001B[1;33m\u001B[0m\u001B[1;33m\u001B[0m\u001B[0m\n\u001B[0m\u001B[0;32m    118\u001B[0m             \u001B[1;32mfor\u001B[0m \u001B[0mcallback\u001B[0m \u001B[1;32min\u001B[0m \u001B[0mself\u001B[0m\u001B[1;33m.\u001B[0m\u001B[0m_after\u001B[0m\u001B[1;33m:\u001B[0m\u001B[1;33m\u001B[0m\u001B[1;33m\u001B[0m\u001B[0m\n\u001B[0;32m    119\u001B[0m                 \u001B[0mcallback\u001B[0m\u001B[1;33m.\u001B[0m\u001B[0m__get__\u001B[0m\u001B[1;33m(\u001B[0m\u001B[0mobj\u001B[0m\u001B[1;33m,\u001B[0m \u001B[0mobjtype\u001B[0m\u001B[1;33m)\u001B[0m\u001B[1;33m(\u001B[0m\u001B[1;33m*\u001B[0m\u001B[0margs\u001B[0m\u001B[1;33m,\u001B[0m \u001B[1;33m**\u001B[0m\u001B[0mkwargs\u001B[0m\u001B[1;33m)\u001B[0m\u001B[1;33m\u001B[0m\u001B[1;33m\u001B[0m\u001B[0m\n",
      "\u001B[1;32mc:\\program files\\python39\\lib\\site-packages\\qiskit\\utils\\classtools.py\u001B[0m in \u001B[0;36mout\u001B[1;34m(*args, **kwargs)\u001B[0m\n\u001B[0;32m    114\u001B[0m         \u001B[1;32mdef\u001B[0m \u001B[0mout\u001B[0m\u001B[1;33m(\u001B[0m\u001B[1;33m*\u001B[0m\u001B[0margs\u001B[0m\u001B[1;33m,\u001B[0m \u001B[1;33m**\u001B[0m\u001B[0mkwargs\u001B[0m\u001B[1;33m)\u001B[0m\u001B[1;33m:\u001B[0m\u001B[1;33m\u001B[0m\u001B[1;33m\u001B[0m\u001B[0m\n\u001B[0;32m    115\u001B[0m             \u001B[1;32mfor\u001B[0m \u001B[0mcallback\u001B[0m \u001B[1;32min\u001B[0m \u001B[0mself\u001B[0m\u001B[1;33m.\u001B[0m\u001B[0m_before\u001B[0m\u001B[1;33m:\u001B[0m\u001B[1;33m\u001B[0m\u001B[1;33m\u001B[0m\u001B[0m\n\u001B[1;32m--> 116\u001B[1;33m                 \u001B[0mcallback\u001B[0m\u001B[1;33m.\u001B[0m\u001B[0m__get__\u001B[0m\u001B[1;33m(\u001B[0m\u001B[0mobj\u001B[0m\u001B[1;33m,\u001B[0m \u001B[0mobjtype\u001B[0m\u001B[1;33m)\u001B[0m\u001B[1;33m(\u001B[0m\u001B[1;33m*\u001B[0m\u001B[0margs\u001B[0m\u001B[1;33m,\u001B[0m \u001B[1;33m**\u001B[0m\u001B[0mkwargs\u001B[0m\u001B[1;33m)\u001B[0m\u001B[1;33m\u001B[0m\u001B[1;33m\u001B[0m\u001B[0m\n\u001B[0m\u001B[0;32m    117\u001B[0m             \u001B[0mretval\u001B[0m \u001B[1;33m=\u001B[0m \u001B[0mmethod\u001B[0m\u001B[1;33m(\u001B[0m\u001B[1;33m*\u001B[0m\u001B[0margs\u001B[0m\u001B[1;33m,\u001B[0m \u001B[1;33m**\u001B[0m\u001B[0mkwargs\u001B[0m\u001B[1;33m)\u001B[0m\u001B[1;33m\u001B[0m\u001B[1;33m\u001B[0m\u001B[0m\n\u001B[0;32m    118\u001B[0m             \u001B[1;32mfor\u001B[0m \u001B[0mcallback\u001B[0m \u001B[1;32min\u001B[0m \u001B[0mself\u001B[0m\u001B[1;33m.\u001B[0m\u001B[0m_after\u001B[0m\u001B[1;33m:\u001B[0m\u001B[1;33m\u001B[0m\u001B[1;33m\u001B[0m\u001B[0m\n",
      "\u001B[1;32mc:\\program files\\python39\\lib\\site-packages\\qiskit\\utils\\lazy_tester.py\u001B[0m in \u001B[0;36m__call__\u001B[1;34m(self, *_args, **_kwargs)\u001B[0m\n\u001B[0;32m     37\u001B[0m \u001B[1;33m\u001B[0m\u001B[0m\n\u001B[0;32m     38\u001B[0m     \u001B[1;32mdef\u001B[0m \u001B[0m__call__\u001B[0m\u001B[1;33m(\u001B[0m\u001B[0mself\u001B[0m\u001B[1;33m,\u001B[0m \u001B[1;33m*\u001B[0m\u001B[0m_args\u001B[0m\u001B[1;33m,\u001B[0m \u001B[1;33m**\u001B[0m\u001B[0m_kwargs\u001B[0m\u001B[1;33m)\u001B[0m\u001B[1;33m:\u001B[0m\u001B[1;33m\u001B[0m\u001B[1;33m\u001B[0m\u001B[0m\n\u001B[1;32m---> 39\u001B[1;33m         \u001B[0mself\u001B[0m\u001B[1;33m.\u001B[0m\u001B[0m_tester\u001B[0m\u001B[1;33m.\u001B[0m\u001B[0mrequire_now\u001B[0m\u001B[1;33m(\u001B[0m\u001B[0mself\u001B[0m\u001B[1;33m.\u001B[0m\u001B[0m_feature\u001B[0m\u001B[1;33m)\u001B[0m\u001B[1;33m\u001B[0m\u001B[1;33m\u001B[0m\u001B[0m\n\u001B[0m\u001B[0;32m     40\u001B[0m \u001B[1;33m\u001B[0m\u001B[0m\n\u001B[0;32m     41\u001B[0m \u001B[1;33m\u001B[0m\u001B[0m\n",
      "\u001B[1;32mc:\\program files\\python39\\lib\\site-packages\\qiskit\\utils\\lazy_tester.py\u001B[0m in \u001B[0;36mrequire_now\u001B[1;34m(self, feature)\u001B[0m\n\u001B[0;32m    221\u001B[0m         \u001B[1;32mif\u001B[0m \u001B[0mself\u001B[0m\u001B[1;33m:\u001B[0m\u001B[1;33m\u001B[0m\u001B[1;33m\u001B[0m\u001B[0m\n\u001B[0;32m    222\u001B[0m             \u001B[1;32mreturn\u001B[0m\u001B[1;33m\u001B[0m\u001B[1;33m\u001B[0m\u001B[0m\n\u001B[1;32m--> 223\u001B[1;33m         raise MissingOptionalLibraryError(\n\u001B[0m\u001B[0;32m    224\u001B[0m             \u001B[0mlibname\u001B[0m\u001B[1;33m=\u001B[0m\u001B[0mself\u001B[0m\u001B[1;33m.\u001B[0m\u001B[0m_name\u001B[0m\u001B[1;33m,\u001B[0m \u001B[0mname\u001B[0m\u001B[1;33m=\u001B[0m\u001B[0mfeature\u001B[0m\u001B[1;33m,\u001B[0m \u001B[0mpip_install\u001B[0m\u001B[1;33m=\u001B[0m\u001B[0mself\u001B[0m\u001B[1;33m.\u001B[0m\u001B[0m_install\u001B[0m\u001B[1;33m,\u001B[0m \u001B[0mmsg\u001B[0m\u001B[1;33m=\u001B[0m\u001B[0mself\u001B[0m\u001B[1;33m.\u001B[0m\u001B[0m_msg\u001B[0m\u001B[1;33m\u001B[0m\u001B[1;33m\u001B[0m\u001B[0m\n\u001B[0;32m    225\u001B[0m         )\n",
      "\u001B[1;31mMissingOptionalLibraryError\u001B[0m: \"The 'pylatexenc' library is required to use 'MatplotlibDrawer'. You can install it with 'pip install pylatexenc'.\""
     ]
    }
   ],
   "source": [
    "import numpy as np\n",
    "from qiskit import QuantumCircuit\n",
    "from qiskit.visualization import circuit_drawer\n",
    "\n",
    "# Create a new quantum circuit with 3 qubits\n",
    "qc = QuantumCircuit(3)\n",
    "\n",
    "# Apply an RX(pi) gate on qubit 0\n",
    "qc.rx(np.pi, 0)\n",
    "\n",
    "# Apply an RZ(pi/2) gate on qubit 1\n",
    "qc.rz(np.pi / 2, 1)\n",
    "\n",
    "# Apply a CZ gate with qubit 0 as control and qubit 1 as target\n",
    "qc.cz(0, 1)\n",
    "\n",
    "# Apply an RZ(pi/4) gate on qubit 2\n",
    "qc.rz(np.pi / 4, 2)\n",
    "\n",
    "# Apply a CZ gate with qubit 1 as control and qubit 2 as target\n",
    "qc.cz(1, 2)\n",
    "\n",
    "# Draw the quantum circuit using the 'mpl' (matplotlib) option for a nicer diagram\n",
    "circuit_drawer(qc, output='mpl')"
   ],
   "metadata": {
    "collapsed": false
   }
  },
  {
   "cell_type": "code",
   "execution_count": null,
   "outputs": [],
   "source": [],
   "metadata": {
    "collapsed": false
   }
  }
 ],
 "metadata": {
  "kernelspec": {
   "display_name": "Python 3",
   "language": "python",
   "name": "python3"
  },
  "language_info": {
   "codemirror_mode": {
    "name": "ipython",
    "version": 2
   },
   "file_extension": ".py",
   "mimetype": "text/x-python",
   "name": "python",
   "nbconvert_exporter": "python",
   "pygments_lexer": "ipython2",
   "version": "2.7.6"
  }
 },
 "nbformat": 4,
 "nbformat_minor": 0
}
