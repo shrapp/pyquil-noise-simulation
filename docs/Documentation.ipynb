{
 "cells": [
  {
   "attachments": {},
   "cell_type": "markdown",
   "metadata": {},
   "source": [
    "# Simulating Gate Noise\n"
   ]
  },
  {
   "attachments": {},
   "cell_type": "markdown",
   "metadata": {},
   "source": [
    "## Pure states vs. mixed states\n",
    "\n",
    "Errors in quantum computing can introduce classical uncertainty in what the underlying state is.\n",
    "When this happens we sometimes need to consider not only wavefunctions but also probabilistic sums of\n",
    "wavefunctions when we are uncertain as to which one we have. For example, if we think that an X gate\n",
    "was accidentally applied to a qubit with a 50-50 chance then we would say that there is a 50% chance\n",
    "we have the $\\ket{0}$ state and a 50% chance that we have a $\\ket{1}$ state.\n",
    "This is called an \"impure\" or\n",
    "\"mixed\"state in that it isn't just a wavefunction (which is pure) but instead a distribution over\n",
    "wavefunctions. We describe this with something called a density matrix, which is generally an\n",
    "operator. Pure states have very simple density matrices that we can write as an outer product of a\n",
    "ket vector $\\ket{\\psi}$ with its own bra version $\\bra{\\psi}=\\ket{\\psi}^\\dagger$.\n",
    "For a pure state the density matrix is simply\n",
    "\n",
    "\n",
    "$$\n",
    "   \\rho_\\psi = \\ket{\\psi}\\bra{\\psi}.\n",
    "$$\n",
    "The expectation value of an operator for a mixed state is given by\n",
    "\n",
    "$$\n",
    "   \\langle X \\rangle_\\rho = Tr({X \\rho})\n",
    "$$\n",
    "where $Tr(A)$ is the trace of an operator, which is the sum of its diagonal elements\n",
    "which is independent of choice of basis.\n",
    "Pure state density matrices satisfy\n",
    "\n",
    "$$\n",
    "   \\rho \\text{ is pure } \\Leftrightarrow \\rho^2 = \\rho\n",
    "$$\n",
    "which you can easily verify for $\\rho_\\psi$ assuming that the state is normalized.\n",
    "If we want to describe a situation with classical uncertainty between states $\\rho_1$ and\n",
    "$\\rho_2$, then we can take their weighted sum\n",
    "$$\n",
    "   \\rho = p \\rho_1 + (1-p) \\rho_2\n",
    "$$\n",
    "where $p\\in [0,1]$ gives the classical probability that the state is $\\rho_1$.\n",
    "\n",
    "Note that classical uncertainty in the wavefunction is markedly different from superpositions.\n",
    "We can represent superpositions using wavefunctions, but use density matrices to describe\n",
    "distributions over wavefunctions. You can read more about density matrices [here](https://en.wikipedia.org/wiki/Density_matrix)."
   ]
  },
  {
   "cell_type": "markdown",
   "metadata": {},
   "source": [
    "# Quantum gate errors\n",
    "## What are they?\n",
    "For a quantum gate given by its unitary operator $U$, a \"quantum gate error\" describes the scenario in which the actually induces transformation deviates from $\\ket{\\psi} \\mapsto U\\ket{\\psi}$. \n",
    "There are two basic types of quantum gate errors:\n",
    "\n",
    "1. **coherent errors** are those that preserve the purity of the input state, i.e., instead of the above mapping we carry out a perturbed, but unitary operation $\\ket{\\psi} \\mapsto \\tilde{U}\\ket{\\psi}$, where $\\tilde{U} \\neq U$.  \n",
    "2. **incoherent errors** are those that do not preserve the purity of the input state, \n",
    "    in this case we must actually represent the evolution in terms of density matrices. \n",
    "    The state $\\rho := \\ket{\\psi}\\bra{\\psi}$ is then mapped as \n",
    "    $$\n",
    "    \\rho \\mapsto \\sum_{j=1}^n K_j\\rho K_j^\\dagger, \n",
    "    $$ \n",
    "    where the operators $\\{K_1, K_2, \\dots, K_m\\}$ are called Kraus operators and must obey \n",
    "    $\\sum_{j=1}^m K_j^\\dagger K_j = I$ to conserve the trace of $\\rho$. \n",
    "    Maps expressed in the above form are called Kraus maps. It can be shown that every physical map on a finite\n",
    "    dimensional quantum system can be represented as a Kraus map, though this representation is not generally unique.\n",
    "    [You can find more information about quantum operations here](https://en.wikipedia.org/wiki/Quantum_operation#Kraus_operators)\n",
    "  \n",
    "In a way, coherent errors are *in principle* amendable by more precisely calibrated control. Incoherent errors are more tricky."
   ]
  },
  {
   "cell_type": "markdown",
   "metadata": {},
   "source": [
    "## Why do incoherent errors happen?\n",
    "When a quantum system (e.g., the qubits on a quantum processor) is not perfectly isolated from its environment it generally co-evolves with the degrees of freedom it couples to. The implication is that while the total time evolution of system and environment can be assumed to be unitary, restriction to the system state generally is not.\n",
    "\n",
    "**Let's throw some math at this for clarity:**\n",
    "Let our total Hilbert space be given by the tensor product of system and environment Hilbert spaces:\n",
    "$\\mathcal{H} = \\mathcal{H}_S \\otimes \\mathcal{H}_E$.\n",
    "Our system \"not being perfectly isolated\" must be translated to the statement that the global Hamiltonian contains a contribution that couples the system and environment:\n",
    "$$\n",
    "H = H_S \\otimes I + I \\otimes H_E + V\n",
    "$$\n",
    "where $V$ non-trivally acts on both the system and the environment.\n",
    "Consequently, even if we started in an initial state that factorized over system and environment $\\ket{\\psi}_{S,0}\\otimes \\ket{\\psi}_{E,0}$\n",
    "if everything evolves by the Schrödinger equation\n",
    "$$\n",
    "\\ket{\\psi_t} = e^{-i \\frac{Ht}{\\hbar}} \\left(\\ket{\\psi}_{S,0}\\otimes \\ket{\\psi}_{E,0}\\right)\n",
    "$$\n",
    "the final state will generally not admit such a factorization."
   ]
  },
  {
   "attachments": {},
   "cell_type": "markdown",
   "metadata": {},
   "source": [
    "## A toy model\n",
    "**In this (somewhat technical) section we show how environment interaction can corrupt an identity gate and derive its Kraus map.**\n",
    "For simplicity, let us assume that we are in a reference frame in which both the system and environment Hamiltonian's vanish $H_S = 0, H_E = 0$ and where the cross-coupling is small even when multiplied by the duration of the time evolution $\\|\\frac{tV}{\\hbar}\\|^2 \\sim \\epsilon \\ll 1$ (any operator norm $\\|\\cdot\\|$ will do here).\n",
    "Let us further assume that $V = \\sqrt{\\epsilon} V_S \\otimes V_E$ (the more general case is given by a sum of such terms) and that \n",
    "the initial environment state satisfies $\\bra{\\psi}_{E,0} V_E\\ket{\\psi}_{E,0} = 0$. This turns out to be a very reasonable assumption in practice but a more thorough discussion exceeds our scope.\n",
    "\n",
    "Then the joint system + environment state $\\rho = \\rho_{S,0} \\otimes \\rho_{E,0}$ (now written as a density matrix) evolves as\n",
    "$$\n",
    "\\rho \\mapsto \\rho' :=  e^{-i \\frac{Vt}{\\hbar}} \\rho e^{+i \\frac{Vt}{\\hbar}}\n",
    "$$\n",
    "Using the Baker-Campbell-Hausdorff theorem we can expand this to second order in $\\epsilon$\n",
    "$$\n",
    "\\rho' = \\rho - \\frac{it}{\\hbar} [V, \\rho] - \\frac{t^2}{2\\hbar^2} [V, [V, \\rho]] + O(\\epsilon^{3/2})\n",
    "$$\n",
    "We can insert the initially factorizable state $\\rho = \\rho_{S,0} \\otimes \\rho_{E,0}$ and trace over the environmental degrees of freedom to obtain\n",
    "\\begin{align}\n",
    "\\rho_S' := \\tr_E \\rho' & = \\rho_{S,0}  \\underbrace{\\tr \\rho_{E,0}}_{1} - \\frac{i\\sqrt{\\epsilon} t}{\\hbar} \\underbrace{\\left[ V_S \\rho_{S,0} \\underbrace{\\tr V_E\\rho_{E,0}}_{\\bra{\\psi}_{E,0} V_E\\ket{\\psi}_{E,0} = 0} - \\rho_{S,0}V_S  \\underbrace{\\tr \\rho_{E,0}V_E}_{\\bra{\\psi}_{E,0} V_E\\ket{\\psi}_{E,0} = 0} \\right]}_0 \\\\\n",
    "& \\qquad - \\frac{\\epsilon t^2}{2\\hbar^2} \\left[ V_S^2\\rho_{S,0}\\tr V_E^2 \\rho_{E,0} + \\rho_{S,0} V_S^2 \\tr \\rho_{E,0}V_E^2 - 2 V_S\\rho_{S,0}V_S\\tr V_E \\rho_{E,0}V_E\\right] \\\\\n",
    "& = \\rho_{S,0} - \\frac{\\gamma}{2} \\left[ V_S^2\\rho_{S,0} + \\rho_{S,0} V_S^2  - 2 V_S\\rho_{S,0}V_S\\right]\n",
    "\\end{align}\n",
    "where the coefficient in front of the second part is by our initial assumption very small $\\gamma := \\frac{\\epsilon t^2}{2\\hbar^2}\\tr V_E^2 \\rho_{E,0} \\ll 1$.\n",
    "This evolution happens to be approximately equal to a Kraus map with operators $K_1 := I - \\frac{\\gamma}{2} V_S^2, K_2:= \\sqrt{\\gamma} V_S$:\n",
    "\\begin{align}\n",
    "\\rho_S \\to \\rho_S' &= K_1\\rho K_1^\\dagger + K_2\\rho K_2^\\dagger\n",
    " = \\rho - \\frac{\\gamma}{2}\\left[ V_S^2 \\rho + \\rho V_S^2\\right] + \\gamma V_S\\rho_S V_S + O(\\gamma^2)\n",
    "\\end{align}\n",
    "This agrees to $O(\\epsilon^{3/2})$ with the result of our derivation above. This type of derivation can be extended to many other cases with little complication and a very similar argument is used to derive the [Lindblad master equation](https://en.wikipedia.org/wiki/Lindblad_equation)."
   ]
  },
  {
   "attachments": {},
   "cell_type": "markdown",
   "metadata": {},
   "source": [
    "# Support for noisy gates on the Rigetti QVM\n",
    "\n",
    "As of today, users of our Forest API can annotate their QUIL programs by certain pragma statements that inform the QVM that a particular gate on specific target qubits should be replaced by an imperfect realization given by a Kraus map.\n",
    "\n",
    "The QVM propagates **pure states** — so how does it simulate noisy gates? It does so by yielding the correct outcomes **in the average over many executions of the QUIL program**:\n",
    "When the noisy version of a gate should be applied the QVM makes a random choice which Kraus operator is applied to the current state with a probability that ensures that the average over many executions is equivalent to the Kraus map.\n",
    "In particular, a particular Kraus operator $K_j$ is applied to $\\ket{\\psi}_S$\n",
    "$$\n",
    "\\ket{\\psi'}_S = \\frac{1}{\\sqrt{p_j}} K_j \\ket{\\psi}_S\n",
    "$$\n",
    "with probability $p_j:= \\bra{\\psi}_S K_j^\\dagger K_j \\ket{\\psi}_S$.\n",
    "In the average over many execution $N \\gg 1$ we therefore find that\n",
    "\\begin{align}\n",
    "\\overline{\\rho_S'} & = \\frac{1}{N} \\sum_{n=1}^N \\ket{\\psi'_n}_S\\bra{\\psi'_n}_S \\\\\n",
    "& = \\frac{1}{N} \\sum_{n=1}^N p_{j_n}^{-1}K_{j_n}\\ket{\\psi}_S \\bra{\\psi}_SK_{j_n}^\\dagger\n",
    "\\end{align}\n",
    "where $j_n$ is the chosen Kraus operator label in the $n$-th trial.\n",
    "This is clearly a Kraus map itself! And we can group identical terms and rewrite it as\n",
    "\\begin{align}\n",
    "\\overline{\\rho_S'} & = \n",
    "  \\sum_{\\ell=1}^n \\frac{N_\\ell}{N}  p_{\\ell}^{-1}K_{\\ell}\\ket{\\psi}_S \\bra{\\psi}_SK_{\\ell}^\\dagger\n",
    "\\end{align}\n",
    "where $N_{\\ell}$ is the number of times that Kraus operator label $\\ell$ was selected.\n",
    "For large enough $N$ we know that $N_{\\ell} \\approx N p_\\ell$ and therefore\n",
    "\\begin{align}\n",
    "\\overline{\\rho_S'} \\approx \\sum_{\\ell=1}^n K_{\\ell}\\ket{\\psi}_S \\bra{\\psi}_SK_{\\ell}^\\dagger\n",
    "\\end{align}\n",
    "which proves our claim.\n",
    "**The consequence is that noisy gate simulations must generally be repeated many times to obtain representative results**."
   ]
  },
  {
   "attachments": {},
   "cell_type": "markdown",
   "metadata": {},
   "source": [
    "# Noisy simulator for pyquil\n",
    "\n",
    "The module new_noise.py facilitates the execution of a realistic simulation of a noisy quantum computer, providing users with an accessible and robust tool. The core functionality emulates Rigetti's quantum computers, utilizing current calibration data from the company. Additionally, users have the ability to explore the effects of varying noise intensity or specifying alternative noise parameters.\n",
    "\n",
    "In the following sections, we will delve into the workings of the simulator, along with a comprehensive guide on its usage, accompanied by illustrative examples.\n"
   ]
  },
  {
   "attachments": {},
   "cell_type": "markdown",
   "metadata": {},
   "source": [
    "## How does the simulator work?\n",
    "\n",
    "The simulator employs Kraus operators as its foundation, as described previously. However, instead of incorporating Kraus operators directly into the gate (which poses challenges for parametric gates and does not account for effects on other qubits), we apply them to unity matrices following each gate. This serves as the fundamental concept behind the simulator.\n",
    "\n",
    "It is important to note that the majority of gates utilized in quantum programs are not physically realized within the quantum computer. Instead, they are implemented using a limited set of native gates. For instance, in Rigetti's Aspen-M-3 computer, the native gates include RX, RZ, CZ, CPHASE, and XY. To accurately simulate the real computer, the simulator, by default, translates the program into native gates and subsequently introduces noise into the native program, unless the user specifies otherwise.\n",
    "\n",
    "### Depolarizing\n",
    "\n",
    "Upon the application of a gate to a qubit, some quantum information may be lost, resulting in the density matrix representing the qubit being mapped to a linear combination of itself and a maximally mixed state. For each qubit and gate, the fidelity is known, which is the probability of the qubit remaining consistent.\n",
    "\n",
    "The corresponding Kraus operators (with $\\lambda = 1 - \\text{fidelity}$) are as follows:\n",
    "\n",
    "$$\n",
    "K_0 = \\sqrt{1- \\frac{3 \\lambda}{4}}I\n",
    "$$\n",
    "$$\n",
    "K_1 = \\sqrt{\\frac{\\lambda}{4}} \\sigma_X\n",
    "$$\n",
    "$$\n",
    "K_2 = \\sqrt{\\frac{\\lambda}{4}} \\sigma_Y\n",
    "$$\n",
    "$$\n",
    "K_3 = \\sqrt{\\frac{\\lambda}{4}} \\sigma_Z\n",
    "$$\n",
    "\n",
    "[For further information on quantum depolarizing channels, please refer to this.](https://en.wikipedia.org/wiki/Quantum_depolarizing_channel)\n",
    "\n",
    "After each gate, the depolarizing channel is applied to the target qubits. Although there is a probability, dictated by the fidelity, that nothing will occur, there remains the possibility that the qubit will transition into a maximally mixed state.\n",
    "\n",
    "### Decoherence\n",
    "\n",
    "Each gate possesses a specific duration time. Within this module, we assume that the duration of a two-qubit gate is 176 nanoseconds, while the duration of a one-qubit gate is 32 nanoseconds.\n",
    "\n",
    "During the application of a two-qubit gate, other gates are typically not applied to the additional qubits involved in the program. However, these qubits do experience a waiting period and are subject to decoherence noise: damping and dephasing. The Kraus operators representing damping and dephasing are determined by the times T1 and T2; longer times indicate lower noise levels for the qubit. Consequently, after each two-qubit gate in the program, we introduce noise intensity gates (for damping and dephasing) to all other qubits in the program.\n",
    "\n",
    "One-qubit gates are presumed to be applied simultaneously, so by default, we do not apply decoherence noise (representing waiting) to qubits not participating in the gate. This default setting can be altered as needed.\n",
    "\n",
    "Amplitude **damping** channels are imperfect identity maps with Kraus operators\n",
    "$$\n",
    "K_1 = \\begin{pmatrix} \n",
    "1 & 0 \\\\\n",
    "0 & \\sqrt{1-p}\n",
    "\\end{pmatrix} \\\\\n",
    "K_2 = \\begin{pmatrix} \n",
    "0 & \\sqrt{p} \\\\\n",
    "0 & 0\n",
    "\\end{pmatrix}\n",
    "$$\n",
    "Here, $p$ represents the probability that a qubit in the $\\ket{1}$ state decays to the $\\ket{0}$ state, and it is given by $p = 1 - \\exp(-T_{\\rm gate}/T_1)$.\n",
    "\n",
    "**Dephasing** is usually characterized through a qubit's $T_2$ time. \n",
    "For a single qubit the dephasing Kraus operators are\n",
    "$$\n",
    "K_1(p) = \\sqrt{1-p} I_2 \\\\\n",
    "K_2(p) = \\sqrt{p} \\sigma_Z\n",
    "$$\n",
    "In this case, $p = 0.5 * (1 - exp(-(\\frac{\\text{gate_time}}{T_2} - \\frac{\\text{gate_time}}{2 \\cdot T_1})))$ denotes the probability that the qubit is dephased over the time interval of interest, $I_2$ is the $2\\times 2$-identity matrix, and $\\sigma_Z$ is the Pauli-Z operator.\n",
    "\n",
    "These two sets of Kraus operators are combined to simulate damping after dephasing, resulting in decoherence noise.\n",
    "\n",
    "### Readout\n",
    "\n",
    "The final category of noise, readout noise, is distinct from the previously discussed types. For each qubit, the readout fidelity is known, which is the probability that the read value is accurate. This probability is assumed to be identical for obtaining 0 when the qubit is in state 0 and acquiring 1 when the qubit is in state 1.\n",
    "\n",
    "The QVM is capable of handling a Pragma that incorporates readout noise. Therefore, the Pyquil module only needs to construct the appropriate Pragma according to the corresponding fidelities.\n"
   ]
  },
  {
   "attachments": {},
   "cell_type": "markdown",
   "metadata": {},
   "source": [
    "## Usage\n",
    "\n",
    "### Basic usage\n",
    "\n",
    "Utilizing the simulator is straightforward: First, create a quantum computer object and a program, and then provide them as parameters to the function. The output will be a noisy version of the program, simulating the real quantum computer specified as an input. The process can be summarized as follows:\n"
   ]
  },
  {
   "cell_type": "code",
   "execution_count": 1,
   "metadata": {},
   "outputs": [],
   "source": [
    "from pyquil.quil import Program\n",
    "from pyquil.api import get_qc\n",
    "from new_noise import add_noise_to_program\n",
    "\n",
    "# create a Quantum computer object:\n",
    "qc = get_qc('Aspen-M-3', as_qvm=True)\n",
    "# create a program:\n",
    "prog = Program()\n",
    "# write your quantum program...\n",
    "\n",
    "# get the noisy version of your program, fitted to the quantum computer you chose:\n",
    "noisy_prog = add_noise_to_program(qc=qc, p=prog)"
   ]
  },
  {
   "attachments": {},
   "cell_type": "markdown",
   "metadata": {},
   "source": [
    "### Advanced usage\n",
    "\n",
    "Certain users may not only wish to evaluate the behavior of their program on a real Rigetti quantum computer, but also explore the effects of varying noise levels or the resolution of specific noise types. Some users might want to define their own fidelities and decoherence times, while others may be interested in investigating different gate types with new estimated noise parameters. For these users, the basic function can be further customized and adapted to accommodate a wide range of requirements.\n",
    "\n",
    "#### **convert to native gates:**\n",
    "\n",
    "As previously discussed, the function's default behavior is to convert the program into native gates before introducing noise. However, this approach may be problematic in two scenarios:\n",
    "\n",
    "If a user has already written their program using native gates and desires them to execute exactly as written (without altering the qubits or optimizing the program), the default compiler may modify their choices.\n",
    "If a user wishes to explore the potential of non-native gates, accompanied by their own estimated noise parameters, the default function will convert these gates into native ones, defeating the purpose.\n",
    "In such instances, the solution is to instruct the function not to convert the program into native gates. This can be achieved with the following command:\n",
    "\n",
    "`noisy_prog = add_noise_to_program(qc=qc, p=prog, convert_to_native=False)`\n",
    "\n",
    "#### **intensity parameter:**\n",
    "\n",
    "You can assess the impact of noise on your program by adjusting the noise intensity. The default value is 1, which corresponds to the noise level in a real quantum computer. This parameter can be varied from 0 (no noise) to infinity (extremely noisy). For example, to reduce the noise intensity to 0.5, proceed as follows:\n",
    "`noisy_prog = add_noise_to_program(qc=qc, p=prog, noise_intensity=0.5)`\n",
    "\n",
    "#### **Setting noise types:**\n",
    "\n",
    "You can also configure the types of noise you want to introduce to the program. As previously mentioned, the default assumption is that two-qubit gates operate independently, while one-qubit gates run simultaneously. This assumption may not hold true for different types of programs, so users can modify the settings accordingly. If single-qubit gates do not operate simultaneously, you can add decoherence noise to all other qubits in the program while the one-qubit gate is being applied, effectively simulating the waiting process for the remaining qubits:\n",
    "\n",
    "`noisy_prog = add_noise_to_program(qc=qc, p=prog, single_q_noise_after_1q_gate=True)`\n",
    "\n",
    "Conversely, if your two-qubit gates operate simultaneously, you can eliminate the waiting noise following the execution of two-qubit gates:\n",
    "`noisy_prog = add_noise_to_program(qc=qc, p=prog, single_q_noise_after_2q_gate=False)`\n",
    "\n",
    "Additionally, you have the option to exclude readout noise, depolarizing noise, or any combination thereof:\n",
    "`noisy_prog = add_noise_to_program(qc=qc, p=prog, readout_noise=False, depolarizing=False)`\n",
    "\n",
    "When depolarizing noise is enabled, the target qubit does not receive additional decoherence \"waiting\" noise, as it is already incorporated within the depolarizing noise. If you choose to disable depolarizing noise, the target qubit, along with all other qubits in the program, will still be subject to decoherence noise based on the parameters `single_q_noise_after_1q_gate` and `single_q_noise_after_2q_gate`. You can also configure the target qubit to receive decoherence noise according to the gate time, as demonstrated below:\n",
    "\n",
    "`noisy_prog = add_noise_to_program(qc=qc, p=prog, depolarizing=False, single_q_noise_after_2q_gate=False, single_q_noise_only_on_targets=True)`\n"
   ]
  },
  {
   "attachments": {},
   "cell_type": "markdown",
   "metadata": {},
   "source": [
    "#### **Calibrations**\n",
    "\n",
    "When selecting a quantum computer object and providing it to the function, its calibrations are stored in a class called `Calibrations`. Each noise type is stored as a dictionary that maps a qubit to its fidelity or time (depending on the noise type). The dictionaries include: T1, T2, readout_fidelity, and fidelities - which is a nested dictionary for each gate. The class also contains a set of two-qubit gates present in the computer.\n",
    "\n",
    "In a basic usage of the function, the quantum computer's name is provided, and the appropriate calibrations for the specified computer are retrieved from the web. (A future improvement could involve obtaining this information directly, without relying on a specific URL and JSON format).\n",
    "\n",
    "Often, you may want to run a loop to test your program with various modifications on the same computer. In such cases, constructing the Calibration instance from the web can be inefficient. A better practice would be to create the instance explicitly once and pass it as a parameter to the function:\n",
    "\n",
    "`cal = Calibrations('Aspen-M-3')`\n",
    "\n",
    "`noisy_prog = add_noise_to_program(qc, prog, calibrations=cal)`\n",
    "\n",
    "If you want to define custom noise parameters or gate types, you should create an instance of `Calibrations`, populate it with your own data, and then provide it as a parameter to the function:\n"
   ]
  },
  {
   "cell_type": "code",
   "execution_count": 2,
   "metadata": {},
   "outputs": [],
   "source": [
    "from new_noise import Calibrations\n",
    "\n",
    "cal = Calibrations()\n",
    "cal.T1 = {0: 1.6e-5, 1: 5.1e-6}\n",
    "cal.T2 = {0: 7.6e-6, 1: 9.3e-6}\n",
    "cal.two_q_gates = set(['XY'])\n",
    "cal.readout_fidelity = {0: 0.994, 1: 0.984}\n",
    "# attention: in \"fidelities\" (and only there), the qubit indeces are strings, not integers.\n",
    "cal.fidelities[\"1Q_gate\"] = {'0': 0.999, '1': 0.998}\n",
    "cal.fidelities[\"XY\"] = {'0-1': 0.977}\n",
    "\n",
    "noisy_prog = add_noise_to_program(qc, prog, calibrations=cal)"
   ]
  },
  {
   "attachments": {},
   "cell_type": "markdown",
   "metadata": {},
   "source": [
    "## Example: GHZ\n",
    "\n",
    "In a GHZ state, three qubits are entangled, and the measurement results should ideally be half '000' and half '111'. The Greenberger-Horne-Zeilinger (GHZ) experiment is an important demonstration of quantum entanglement involving three or more qubits. This entangled state is highly sensitive to noise and decoherence, making it an ideal testbed for evaluating the performance of quantum computers and error mitigation techniques.\n",
    "\n",
    "The GHZ experiment can be implemented using the following sequence of quantum gates:\n",
    "\n",
    "Apply a Hadamard gate (H) to the first qubit, which puts it in an equal superposition of '0' and '1' states.\n",
    "Apply a CNOT gate between the first and second qubits, creating entanglement between them.\n",
    "Apply another CNOT gate between the second and third qubits, resulting in the entanglement of all three qubits.\n",
    "After performing these operations, the resulting GHZ state is $(\\ket{000} + \\ket{111})/\\sqrt{2}$. Due to noise, the actual program will yield other results as well. In this example, we examine the results for a noise-free program, as well as the outcomes for a noisy program that simulates a run on Rigetti's Aspen-M-2 computer. Furthermore, we investigate what would have occurred if all noise levels were reduced to half of their actual values. By examining the outcomes of the GHZ experiment in the presence of different noise levels, researchers can gain insights into the behavior of quantum computers under various conditions and investigate strategies for improving their performance."
   ]
  },
  {
   "attachments": {
    "image.png": {
     "image/png": "[encoded data removed]"
    }
   },
   "cell_type": "markdown",
   "metadata": {},
   "source": [
    "![image.png](attachment:image.png)"
   ]
  },
  {
   "cell_type": "code",
   "execution_count": 3,
   "metadata": {},
   "outputs": [
    {
     "data": {
      "image/png": "[encoded data removed]",
      "text/plain": [
       "<Figure size 432x288 with 1 Axes>"
      ]
     },
     "metadata": {
      "needs_background": "light"
     },
     "output_type": "display_data"
    },
    {
     "data": {
      "image/png": "[encoded data removed]",
      "text/plain": [
       "<Figure size 432x288 with 1 Axes>"
      ]
     },
     "metadata": {
      "needs_background": "light"
     },
     "output_type": "display_data"
    },
    {
     "data": {
      "image/png": "[encoded data removed]",
      "text/plain": [
       "<Figure size 432x288 with 1 Axes>"
      ]
     },
     "metadata": {
      "needs_background": "light"
     },
     "output_type": "display_data"
    }
   ],
   "source": [
    "from pyquil.quil import Program\n",
    "from pyquil.gates import H, MEASURE, CNOT\n",
    "from pyquil.api import get_qc\n",
    "from new_noise import add_noise_to_program, Calibrations\n",
    "import matplotlib.pyplot as plt\n",
    "\n",
    "def ghz(qc, qubits, numshots, noise=False, cal=None, intensity=1.0):\n",
    "    p = Program()\n",
    "    p.declare(\"ro\", \"BIT\", 3)\n",
    "    p += H(qubits[0])\n",
    "    p += CNOT(qubits[0], qubits[1])\n",
    "    p += CNOT(qubits[1], qubits[2])\n",
    "    p += MEASURE(qubits[0], (\"ro\", 0))\n",
    "    p += MEASURE(qubits[1], (\"ro\", 1))\n",
    "    p += MEASURE(qubits[2], (\"ro\", 2))\n",
    "    p.wrap_in_numshots_loop(numshots)\n",
    "    if noise:\n",
    "        if cal is not None:\n",
    "            p = add_noise_to_program(qc, p, calibrations=cal, noise_intensity=intensity)\n",
    "        else:\n",
    "            p = add_noise_to_program(qc, p, noise_intensity=intensity)\n",
    "    return p\n",
    "\n",
    "def run_experiment(qpu, qubits, numshots):\n",
    "    qvm = get_qc(qpu, as_qvm=True, execution_timeout=1000)\n",
    "    cal = Calibrations(qvm)\n",
    "    no_noise = qvm.run(ghz(qvm,qubits,numshots, False)).readout_data.get(\"ro\")\n",
    "    half_noise = qvm.run(ghz(qvm,qubits,numshots, True, cal, intensity=0.5)).readout_data.get(\"ro\")\n",
    "    noisy = qvm.run(ghz(qvm,qubits,numshots, True, cal)).readout_data.get(\"ro\")\n",
    "    return no_noise, half_noise, noisy\n",
    "\n",
    "def plot_results(results, label):\n",
    "    histogram={}\n",
    "    for i in results:\n",
    "        code=(\"00\"+str(int(float(i[2])*100+float(i[1])*10+float(i[0]))))[-3:]\n",
    "        histogram[code]=histogram.get(code,0)+1\n",
    "    histogram=dict(sorted(histogram.items()))\n",
    "    plt.bar(*zip(*histogram.items()), label=label)\n",
    "    plt.xlabel('State')\n",
    "    plt.ylabel('Counts')\n",
    "    plt.legend()\n",
    "    plt.show()\n",
    "\n",
    "no_noise, half_noise, noisy = run_experiment('Aspen-M-3',[0,1,2], 1000)\n",
    "plot_results(no_noise, 'no noise')\n",
    "plot_results(half_noise, 'half noise')\n",
    "plot_results(noisy, 'noisy')"
   ]
  }
 ],
 "metadata": {
  "kernelspec": {
   "display_name": "Python 3",
   "language": "python",
   "name": "python3"
  },
  "language_info": {
   "codemirror_mode": {
    "name": "ipython",
    "version": 3
   },
   "file_extension": ".py",
   "mimetype": "text/x-python",
   "name": "python",
   "nbconvert_exporter": "python",
   "pygments_lexer": "ipython3",
   "version": "3.10.0"
  }
 },
 "nbformat": 4,
 "nbformat_minor": 2
}
