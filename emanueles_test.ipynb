{
 "cells": [
  {
   "cell_type": "code",
   "execution_count": 9,
   "metadata": {},
   "outputs": [],
   "source": [
    "from pyquil import Program\n",
    "from pyquil.quilatom import Parameter, quil_exp\n",
    "from pyquil.quilbase import DefGate\n",
    "from pyquil.gates import H\n",
    "import numpy as np"
   ]
  },
  {
   "cell_type": "code",
   "execution_count": 10,
   "metadata": {},
   "outputs": [],
   "source": [
    "# Define the new gate from a matrix\n",
    "theta = Parameter('theta')\n",
    "rzz = np.array([\n",
    "    [quil_exp(1j * theta), 0, 0, 0],\n",
    "    [0, -1*quil_exp(1j * theta), 0, 0],\n",
    "    [0, 0, -1*quil_exp(1j * theta), 0],\n",
    "    [0, 0, 0, quil_exp(1j * theta)]\n",
    "    ])\n",
    "\n",
    "gate_definition = DefGate('RZZ', rzz, [theta])\n",
    "RZZ = gate_definition.get_constructor()\n",
    "\n",
    "# Create our program and use the new parametric gate\n",
    "p = Program()\n",
    "p += gate_definition\n",
    "p += H(0)\n",
    "p += RZZ(np.pi/2)(0, 1)"
   ]
  },
  {
   "cell_type": "code",
   "execution_count": 11,
   "metadata": {},
   "outputs": [
    {
     "name": "stdout",
     "output_type": "stream",
     "text": [
      "DEFGATE RZZ(%theta):\n",
      "    EXP(i*%theta), 0, 0, 0\n",
      "    0, -1*EXP(i*%theta), 0, 0\n",
      "    0, 0, -1*EXP(i*%theta), 0\n",
      "    0, 0, 0, EXP(i*%theta)\n",
      "\n",
      "H 0\n",
      "RZZ(pi/2) 0 1\n",
      "\n"
     ]
    }
   ],
   "source": [
    "print(p)"
   ]
  }
 ],
 "metadata": {
  "kernelspec": {
   "display_name": "Python 3",
   "language": "python",
   "name": "python3"
  },
  "language_info": {
   "codemirror_mode": {
    "name": "ipython",
    "version": 3
   },
   "file_extension": ".py",
   "mimetype": "text/x-python",
   "name": "python",
   "nbconvert_exporter": "python",
   "pygments_lexer": "ipython3",
   "version": "3.10.0 (tags/v3.10.0:b494f59, Oct  4 2021, 19:00:18) [MSC v.1929 64 bit (AMD64)]"
  },
  "orig_nbformat": 4,
  "vscode": {
   "interpreter": {
    "hash": "5f004066ef2feeb043c31872bfbca61110b341022dd7365f288d57e88dc27684"
   }
  }
 },
 "nbformat": 4,
 "nbformat_minor": 2
}
