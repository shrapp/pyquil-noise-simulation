{
 "cells": [
  {
   "cell_type": "code",
   "execution_count": null,
   "metadata": {},
   "outputs": [],
   "source": [
    "from pyquil import Program\n",
    "from pyquil.quilatom import Parameter, quil_sin, quil_cos\n",
    "from pyquil.quilbase import DefGate\n",
    "from pyquil.gates import H\n",
    "import numpy as np\n",
    "\n",
    "# Define the new gate from a matrix\n",
    "theta = Parameter('theta')\n",
    "rzz = np.array([\n",
    "    [quil_cos(theta) -1j * quil_sin(theta), 0, 0, 0],\n",
    "    [0, -1*(quil_cos(theta) -1j * quil_sin(theta)), 0, 0],\n",
    "    [0, 0, -1*(quil_cos(theta) -1j * quil_sin(theta)), 0],\n",
    "    [0, 0, 0, quil_cos(theta) -1j * quil_sin(theta)]\n",
    "    ])\n",
    "\n",
    "gate_definition = DefGate('RZZ', rzz, [theta])\n",
    "RZZ = gate_definition.get_constructor()\n",
    "\n",
    "# Create our program and use the new parametric gate\n",
    "p = Program()\n",
    "p += gate_definition\n",
    "p += H(0)\n",
    "p += RZZ(np.pi/2)(0, 1)"
   ]
  }
 ],
 "metadata": {
  "kernelspec": {
   "display_name": "Python 3",
   "language": "python",
   "name": "python3"
  },
  "language_info": {
   "name": "python",
   "version": "3.10.0 (tags/v3.10.0:b494f59, Oct  4 2021, 19:00:18) [MSC v.1929 64 bit (AMD64)]"
  },
  "orig_nbformat": 4,
  "vscode": {
   "interpreter": {
    "hash": "5f004066ef2feeb043c31872bfbca61110b341022dd7365f288d57e88dc27684"
   }
  }
 },
 "nbformat": 4,
 "nbformat_minor": 2
}
