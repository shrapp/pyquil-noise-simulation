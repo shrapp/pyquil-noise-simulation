{
 "cells": [
  {
   "cell_type": "code",
   "execution_count": 9,
   "metadata": {},
   "outputs": [],
   "source": [
    "from pyquil.quil import Program\n",
    "from pyquil.quilatom import Parameter, quil_exp\n",
    "from pyquil.quilbase import DefGate\n",
    "from pyquil.gates import H, RX\n",
    "import numpy as np"
   ]
  },
  {
   "cell_type": "code",
   "execution_count": 10,
   "metadata": {},
   "outputs": [],
   "source": [
    "# Define the new gate from a matrix\n",
    "theta = Parameter('theta')\n",
    "rzz = np.array([\n",
    "    [quil_exp(1j * theta), 0, 0, 0],\n",
    "    [0, -1*quil_exp(1j * theta), 0, 0],\n",
    "    [0, 0, -1*quil_exp(1j * theta), 0],\n",
    "    [0, 0, 0, quil_exp(1j * theta)]\n",
    "    ])\n",
    "\n",
    "gate_definition = DefGate('RZZ', rzz, [theta])\n",
    "RZZ = gate_definition.get_constructor()\n",
    "\n",
    "def add_step(p, theta):\n",
    "    p += RZZ(theta,[0, 1])\n",
    "    p += RZZ(theta,[2, 3])\n",
    "    p += RZZ(theta,[1, 2])\n",
    "    p += RX(theta, 0)\n",
    "    p += RX(theta, 1)   \n",
    "    p += RX(theta, 2)\n",
    "    p += RX(theta, 3)\n",
    "\n",
    "# Create our program and use the new parametric gate\n",
    "N = 30\n",
    "p = Program()\n",
    "p += H(0)\n",
    "p += H(1)\n",
    "p += H(2)\n",
    "p += H(3)\n",
    "for i in range(N):\n",
    "    add_step(p, np.pi/2)"
   ]
  },
  {
   "cell_type": "code",
   "execution_count": 11,
   "metadata": {},
   "outputs": [
    {
     "name": "stdout",
     "output_type": "stream",
     "text": [
      "DEFGATE RZZ(%theta):\n",
      "    EXP(i*%theta), 0, 0, 0\n",
      "    0, -1*EXP(i*%theta), 0, 0\n",
      "    0, 0, -1*EXP(i*%theta), 0\n",
      "    0, 0, 0, EXP(i*%theta)\n",
      "\n",
      "H 0\n",
      "RZZ(pi/2) 0 1\n",
      "\n"
     ]
    }
   ],
   "source": [
    "print(p)"
   ]
  }
 ],
 "metadata": {
  "kernelspec": {
   "display_name": "Python 3.11.0 64-bit",
   "language": "python",
   "name": "python3"
  },
  "language_info": {
   "codemirror_mode": {
    "name": "ipython",
    "version": 3
   },
   "file_extension": ".py",
   "mimetype": "text/x-python",
   "name": "python",
   "nbconvert_exporter": "python",
   "pygments_lexer": "ipython3",
   "version": "3.11.0"
  },
  "orig_nbformat": 4,
  "vscode": {
   "interpreter": {
    "hash": "d417a21d97a2e6b8832d21dc44f5cbe4be6e18325f874a8bb8484565b928cd54"
   }
  }
 },
 "nbformat": 4,
 "nbformat_minor": 2
}
