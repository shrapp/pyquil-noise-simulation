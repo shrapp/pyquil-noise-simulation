{
 "cells": [
  {
   "cell_type": "code",
   "execution_count": 1,
   "metadata": {},
   "outputs": [],
   "source": [
    "from pyquil.quil import Program\n",
    "from pyquil.quilatom import Parameter, quil_exp\n",
    "from pyquil.quilbase import DefGate\n",
    "from pyquil.gates import H, RX, MEASURE, RZ, CPHASE\n",
    "from pyquil.quilbase import Declare\n",
    "from pyquil.api import get_qc\n",
    "import numpy as np\n",
    "from new_noise import add_noise_to_program"
   ]
  },
  {
   "cell_type": "code",
   "execution_count": 2,
   "metadata": {},
   "outputs": [
    {
     "data": {
      "text/plain": [
       "[<matplotlib.lines.Line2D at 0x1b8fe8da4a0>]"
      ]
     },
     "execution_count": 2,
     "metadata": {},
     "output_type": "execute_result"
    },
    {
     "data": {
      "image/png": "[encoded data removed]",
      "text/plain": [
       "<Figure size 432x288 with 1 Axes>"
      ]
     },
     "metadata": {
      "needs_background": "light"
     },
     "output_type": "display_data"
    }
   ],
   "source": [
    "\n",
    "def adiabatic_shift(qc, qubits, steps, trials, noise=False):\n",
    "    p = Program()\n",
    "    for i in range(qubits):\n",
    "        p += H(i)\n",
    "    \n",
    "    angles=np.pi/2*np.array(range(steps))/steps\n",
    "    for theta in angles:\n",
    "        for i in range(qubits):\n",
    "            p += RX(-np.cos(theta), i)\n",
    "        beta = np.sin(theta)\n",
    "        for i in range(qubits-1) :\n",
    "            p += RZ(-beta,i)\n",
    "            p += CPHASE(2*beta,i,i+1)\n",
    "        p += RZ(beta,qubits-1)\n",
    "    ro = p.declare('ro', 'BIT', qubits)\n",
    "    for i in range(qubits):\n",
    "        p += MEASURE(i, (\"ro\", i))\n",
    "    p.wrap_in_numshots_loop(trials)\n",
    "    if noise:\n",
    "        p = add_noise_to_program(qc, p, is_native=True)\n",
    "    bitstrings = qc.run(p).readout_data.get(\"ro\")\n",
    "    d = 0\n",
    "    for i in bitstrings:\n",
    "        for q in range(qubits-1):\n",
    "            d += (i[q] != i[q+1])\n",
    "    d = d/(trials*(2*(qubits-1)))\n",
    "    return d\n",
    "\n",
    "maxN = 10\n",
    "qubits = 8\n",
    "trials = 500\n",
    "# qc = get_qc(str(qubits) + 'q-qvm')\n",
    "qc = get_qc('Aspen-M-3', as_qvm=True)\n",
    "no_noise = np.zeros(maxN)\n",
    "noisy = np.zeros(maxN)\n",
    "for i in range (maxN):\n",
    "    no_noise[i] = adiabatic_shift(qc, qubits=qubits, steps=i, trials=trials, noise=False)\n",
    "    noisy[i] = adiabatic_shift(qc, qubits=qubits, steps=i, trials=trials, noise=True)\n",
    "\n",
    "import matplotlib.pyplot as plt\n",
    "plt.plot(no_noise)\n",
    "plt.plot(noisy)\n",
    "# plt.yscale('log')\n",
    "# plt.xscale('log')\n"
   ]
  }
 ],
 "metadata": {
  "kernelspec": {
   "display_name": "Python 3",
   "language": "python",
   "name": "python3"
  },
  "language_info": {
   "codemirror_mode": {
    "name": "ipython",
    "version": 3
   },
   "file_extension": ".py",
   "mimetype": "text/x-python",
   "name": "python",
   "nbconvert_exporter": "python",
   "pygments_lexer": "ipython3",
   "version": "3.10.0"
  },
  "orig_nbformat": 4,
  "vscode": {
   "interpreter": {
    "hash": "5f004066ef2feeb043c31872bfbca61110b341022dd7365f288d57e88dc27684"
   }
  }
 },
 "nbformat": 4,
 "nbformat_minor": 2
}
