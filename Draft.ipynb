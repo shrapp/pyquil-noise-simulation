{
 "cells": [
  {
   "cell_type": "code",
   "execution_count": 1,
   "metadata": {},
   "outputs": [],
   "source": [
    "import numpy as np\n",
    "from pyquil.quil import Program, Pragma\n",
    "from pyquil.api import get_qc\n",
    "from pyquil.gates import *\n",
    "import numpy as np"
   ]
  },
  {
   "cell_type": "code",
   "execution_count": 6,
   "metadata": {},
   "outputs": [
    {
     "name": "stdout",
     "output_type": "stream",
     "text": [
      "DECLARE ro BIT[1]\n",
      "H 0\n",
      "PRAGMA DELAY 0 \"2e-07\"\n",
      "MEASURE 0 ro[0]\n",
      "\n",
      "DECLARE ro BIT[1]\n",
      "RZ(pi) 0\n",
      "RX(pi/2) 0\n",
      "RZ(pi/2) 0\n",
      "RX(-pi/2) 0\n",
      "MEASURE 0 ro[0]\n",
      "HALT\n",
      "\n"
     ]
    },
    {
     "data": {
      "text/plain": [
       "QAMExecutionResult(executable=<pyquil.quil.Program object at 0x000001CAF379F8D0>, readout_data={'ro': array([[0]])}, execution_duration_microseconds=None)"
      ]
     },
     "execution_count": 6,
     "metadata": {},
     "output_type": "execute_result"
    }
   ],
   "source": [
    "p = Program()\n",
    "ro = p.declare('ro', 'BIT', 1)\n",
    "p += H(0)\n",
    "p += Pragma('DELAY', [0], str(200e-9))\n",
    "p += MEASURE(0, ro[0])\n",
    "print(p)\n",
    "qc = get_qc('4q-qvm', execution_timeout=1000)\n",
    "p = qc.compiler.quil_to_native_quil(p)\n",
    "print(p)\n",
    "qc.qam.gate_noise=(0.2, 0.0, 0.0)\n",
    "qc.run(p)\n"
   ]
  },
  {
   "cell_type": "code",
   "execution_count": null,
   "outputs": [],
   "source": [
    "# new thin implementation try\n",
    "def add_noise(\n",
    "\t\tqc: QuantumComputer,\n",
    "\t\tp: Program,\n",
    "\t\tconvert_to_native: bool = True,\n",
    "\t\tcalibrations: Optional[Calibrations] = None,\n",
    "\t\tdepolarizing: bool = False,\n",
    "\t\tdamping_and_dephasing: Optional[int] = 2,\n",
    "\t\t# off= None, 0 = only on targets, 1 = on all qubits after every 1q, 2 = on all qubits after every 2q\n",
    "\t\treadout: bool = True,\n",
    "\t\tnoise_intensity: float = 1,\n",
    ") -> Program:\n",
    "\tif convert_to_native:\n",
    "\t\tp = qc.compiler.quil_to_native_quil(p)\n",
    "\tqubits = p.get_qubits()\n",
    "\n",
    "\tdefenitions = []\n",
    "\tnew_p = Program()\n",
    "\tfor i in p:\n",
    "\t\tif (damping_and_dephasing is not None) and ((isinstance(i, Pragma) and i.command == \"DELAY\") or (isinstance(i, Gate)) and i.name == \"DELAY\"):\n",
    "\n",
    "\t\tif isinstance(i, Gate):\n",
    "\t\t\ttargets = tuple(t.index for t in i.qubits)\n",
    "\t\t\t# for 2-qubit gates, add decoherence noise for all qubits in qc\n",
    "\t\t\tif len(targets) == 2:\n",
    "\t\t\t\tif noise_types.fidelity:\n",
    "\t\t\t\t\tnew_p += noise_types.gates[\"Depolarising_\" + i.name](targets)\n",
    "\t\t\t\tif noise_types.decoherence_2Q:\n",
    "\t\t\t\t\tfor q in qubits:\n",
    "\t\t\t\t\t\tif q not in targets or not noise_types.fidelity:\n",
    "\t\t\t\t\t\t\tnew_p += noise_types.gates[Noisy_I_2Q_name](q)\n",
    "\t\t\telif len(targets) == 1:\n",
    "\t\t\t\tif noise_types.fidelity:\n",
    "\t\t\t\t\tfor q in targets:\n",
    "\t\t\t\t\t\t# new_p += Noisy_I_1Q_fidelity(q)\n",
    "\t\t\t\t\t\tcontinue\n",
    "\t\t\t\tif noise_types.decoherence_1Q:\n",
    "\t\t\t\t\tfor q in qubits:\n",
    "\t\t\t\t\t\tif q not in targets or not noise_types.fidelity:\n",
    "\t\t\t\t\t\t\tnew_p += noise_types.gates[Noisy_I_1Q_name](q)\n",
    "\n",
    "\t# deal with delay:\n",
    "\tnew_p, delay_gates = replace_delay_with_noisy_I(new_p)\n",
    "\n",
    "\tif calibrations is None:\n",
    "\t\tcalibrations = Calibrations(qc=qc)\n",
    "\n",
    "\t# add kraus maps declarations:\n",
    "\tif noise_types.decoherence_1Q or noise_types.decoherence_2Q:\n",
    "\t\tnew_p = add_decoherence_noise(prog=new_p, T1=calibrations.T1, T2=calibrations.T2)\n",
    "\tif noise_types.readout:\n",
    "\t\tnew_p = add_readout_noise(prog=new_p, ro_fidelity=calibrations.readout)\n",
    "\n",
    "\tfor gate in delay_gates:\n",
    "\t\tadd_delay_maps(new_p, gate, calibrations.T1, calibrations.T2)\n",
    "\n",
    "\tnew_p.wrap_in_numshots_loop(p.num_shots)  # wrap in original program's numshots\n",
    "\treturn new_p\n"
   ],
   "metadata": {
    "collapsed": false
   }
  }
 ],
 "metadata": {
  "kernelspec": {
   "display_name": "Python 3.11.0 64-bit",
   "language": "python",
   "name": "python3"
  },
  "language_info": {
   "codemirror_mode": {
    "name": "ipython",
    "version": 3
   },
   "file_extension": ".py",
   "mimetype": "text/x-python",
   "name": "python",
   "nbconvert_exporter": "python",
   "pygments_lexer": "ipython3",
   "version": "3.11.0"
  },
  "orig_nbformat": 4,
  "vscode": {
   "interpreter": {
    "hash": "d417a21d97a2e6b8832d21dc44f5cbe4be6e18325f874a8bb8484565b928cd54"
   }
  }
 },
 "nbformat": 4,
 "nbformat_minor": 2
}
