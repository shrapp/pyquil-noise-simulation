{
 "cells": [
  {
   "cell_type": "code",
   "execution_count": 1,
   "metadata": {},
   "outputs": [
    {
     "data": {
      "text/plain": [
       "<bound method Program.define_noisy_gate of <pyquil.quil.Program object at 0x000002779F5F5050>>"
      ]
     },
     "execution_count": 1,
     "metadata": {},
     "output_type": "execute_result"
    }
   ],
   "source": [
    "import requests\n",
    "import json\n",
    "import numpy as np\n",
    "from pyquil import Program\n",
    "\n",
    "def get_t_value(QPU=2, qubit=0, T=1):\n",
    "\n",
    "    url = \"https://forest-server.qcs.rigetti.com/lattices/Aspen-M-\"\n",
    "\n",
    "    if T not in [1, 2]:\n",
    "        raise ValueError(\"t must be 1 or 2\")\n",
    "    \n",
    "    if QPU not in [2, 3]:\n",
    "        raise ValueError(\"QPU must be 2 or 3\")\n",
    "\n",
    "    response = requests.get(url + str(QPU))\n",
    "\n",
    "    file = json.loads(response.text)\n",
    "\n",
    "    qs = file[\"lattice\"][\"specs\"][\"1Q\"]\n",
    "\n",
    "    if str(qubit) not in qs:\n",
    "        raise ValueError(\"Qubit not found\")\n",
    "\n",
    "    return qs[str(qubit)][\"T\" + str(T)]\n",
    "\n",
    "def damping_channel(damp_prob=.1):\n",
    "    \"\"\"\n",
    "    Generate the Kraus operators corresponding to an amplitude damping\n",
    "    noise channel.\n",
    "\n",
    "    :params float damp_prob: The one-step damping probability.\n",
    "    :return: A list [k1, k2] of the Kraus operators that parametrize the map.\n",
    "    :rtype: list\n",
    "    \"\"\"\n",
    "    damping_op = np.sqrt(damp_prob) * np.array([[0, 1],\n",
    "                                                [0, 0]])\n",
    "\n",
    "    residual_kraus = np.diag([1, np.sqrt(1-damp_prob)])\n",
    "    return [residual_kraus, damping_op]\n",
    "\n",
    "def append_kraus_to_gate(kraus_ops, g):\n",
    "    \"\"\"\n",
    "    Follow a gate `g` by a Kraus map described by `kraus_ops`.\n",
    "\n",
    "    :param list kraus_ops: The Kraus operators.\n",
    "    :param numpy.ndarray g: The unitary gate.\n",
    "    :return: A list of transformed Kraus operators.\n",
    "    \"\"\"\n",
    "    return [kj.dot(g) for kj in kraus_ops]\n",
    "\n",
    "\n",
    "def append_damping_to_gate(gate, damp_prob=.1):\n",
    "    \"\"\"\n",
    "    Generate the Kraus operators corresponding to a given unitary\n",
    "    single qubit gate followed by an amplitude damping noise channel.\n",
    "\n",
    "    :params np.ndarray|list gate: The 2x2 unitary gate matrix.\n",
    "    :params float damp_prob: The one-step damping probability.\n",
    "    :return: A list [k1, k2] of the Kraus operators that parametrize the map.\n",
    "    :rtype: list\n",
    "    \"\"\"\n",
    "    return append_kraus_to_gate(damping_channel(damp_prob), gate)\n",
    "\n",
    "\n",
    "p = Program()\n",
    "p.define_noisy_gate\n",
    "\n",
    "\n",
    "\n",
    "\n"
   ]
  }
 ],
 "metadata": {
  "kernelspec": {
   "display_name": "Python 3.11.0 64-bit",
   "language": "python",
   "name": "python3"
  },
  "language_info": {
   "codemirror_mode": {
    "name": "ipython",
    "version": 3
   },
   "file_extension": ".py",
   "mimetype": "text/x-python",
   "name": "python",
   "nbconvert_exporter": "python",
   "pygments_lexer": "ipython3",
   "version": "3.11.0"
  },
  "orig_nbformat": 4,
  "vscode": {
   "interpreter": {
    "hash": "d417a21d97a2e6b8832d21dc44f5cbe4be6e18325f874a8bb8484565b928cd54"
   }
  }
 },
 "nbformat": 4,
 "nbformat_minor": 2
}
