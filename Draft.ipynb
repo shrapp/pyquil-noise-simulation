{
 "cells": [
  {
   "cell_type": "code",
   "execution_count": 1,
   "metadata": {},
   "outputs": [],
   "source": [
    "import numpy as np\n",
    "from pyquil.quil import Program, Pragma\n",
    "from pyquil.api import get_qc\n",
    "from pyquil.gates import *\n",
    "import numpy as np"
   ]
  },
  {
   "cell_type": "code",
   "execution_count": 6,
   "metadata": {},
   "outputs": [
    {
     "name": "stdout",
     "output_type": "stream",
     "text": [
      "DECLARE ro BIT[1]\n",
      "H 0\n",
      "PRAGMA DELAY 0 \"2e-07\"\n",
      "MEASURE 0 ro[0]\n",
      "\n",
      "DECLARE ro BIT[1]\n",
      "RZ(pi) 0\n",
      "RX(pi/2) 0\n",
      "RZ(pi/2) 0\n",
      "RX(-pi/2) 0\n",
      "MEASURE 0 ro[0]\n",
      "HALT\n",
      "\n"
     ]
    },
    {
     "data": {
      "text/plain": [
       "QAMExecutionResult(executable=<pyquil.quil.Program object at 0x000001CAF379F8D0>, readout_data={'ro': array([[0]])}, execution_duration_microseconds=None)"
      ]
     },
     "execution_count": 6,
     "metadata": {},
     "output_type": "execute_result"
    }
   ],
   "source": [
    "p = Program()\n",
    "ro = p.declare('ro', 'BIT', 1)\n",
    "p += H(0)\n",
    "p += Pragma('DELAY', [0], str(200e-9))\n",
    "p += MEASURE(0, ro[0])\n",
    "print(p)\n",
    "qc = get_qc('4q-qvm', execution_timeout=1000)\n",
    "p = qc.compiler.quil_to_native_quil(p)\n",
    "print(p)\n",
    "qc.qam.gate_noise=(0.2, 0.0, 0.0)\n",
    "qc.run(p)\n"
   ]
  }
 ],
 "metadata": {
  "kernelspec": {
   "display_name": "Python 3.11.0 64-bit",
   "language": "python",
   "name": "python3"
  },
  "language_info": {
   "codemirror_mode": {
    "name": "ipython",
    "version": 3
   },
   "file_extension": ".py",
   "mimetype": "text/x-python",
   "name": "python",
   "nbconvert_exporter": "python",
   "pygments_lexer": "ipython3",
   "version": "3.11.0"
  },
  "orig_nbformat": 4,
  "vscode": {
   "interpreter": {
    "hash": "d417a21d97a2e6b8832d21dc44f5cbe4be6e18325f874a8bb8484565b928cd54"
   }
  }
 },
 "nbformat": 4,
 "nbformat_minor": 2
}
